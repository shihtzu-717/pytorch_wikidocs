{
 "cells": [
  {
   "cell_type": "markdown",
   "id": "2a1677b8-7955-46b9-8d2f-d9b0981b6389",
   "metadata": {},
   "source": [
    "## 1.판다스"
   ]
  },
  {
   "cell_type": "code",
   "execution_count": 5,
   "id": "1a70e82f-014f-4522-bfcb-982224228e8b",
   "metadata": {},
   "outputs": [
    {
     "name": "stdout",
     "output_type": "stream",
     "text": [
      "Requirement already satisfied: pandas in c:\\users\\nayou\\anaconda3\\lib\\site-packages (2.1.4)\n",
      "Requirement already satisfied: numpy<2,>=1.23.2 in c:\\users\\nayou\\anaconda3\\lib\\site-packages (from pandas) (1.26.4)\n",
      "Requirement already satisfied: python-dateutil>=2.8.2 in c:\\users\\nayou\\anaconda3\\lib\\site-packages (from pandas) (2.8.2)\n",
      "Requirement already satisfied: pytz>=2020.1 in c:\\users\\nayou\\anaconda3\\lib\\site-packages (from pandas) (2023.3.post1)\n",
      "Requirement already satisfied: tzdata>=2022.1 in c:\\users\\nayou\\anaconda3\\lib\\site-packages (from pandas) (2023.3)\n",
      "Requirement already satisfied: six>=1.5 in c:\\users\\nayou\\anaconda3\\lib\\site-packages (from python-dateutil>=2.8.2->pandas) (1.16.0)\n",
      "Note: you may need to restart the kernel to use updated packages.\n"
     ]
    }
   ],
   "source": [
    "pip install pandas"
   ]
  },
  {
   "cell_type": "code",
   "execution_count": 6,
   "id": "4b177e55-23f8-4abc-938f-c992ebbc938d",
   "metadata": {},
   "outputs": [],
   "source": [
    "import pandas as pd "
   ]
  },
  {
   "cell_type": "markdown",
   "id": "5f52be02-657f-46d7-8c95-926646b4584e",
   "metadata": {},
   "source": [
    "### 시리즈"
   ]
  },
  {
   "cell_type": "code",
   "execution_count": 7,
   "id": "9b170a50-051b-4659-b952-dd2769444e24",
   "metadata": {},
   "outputs": [
    {
     "name": "stdout",
     "output_type": "stream",
     "text": [
      "class_0    17000\n",
      "class_1    18000\n",
      "class_2     1000\n",
      "class_3     5000\n",
      "dtype: int64\n"
     ]
    }
   ],
   "source": [
    "sr = pd.Series([17000, 18000, 1000, 5000], index = ['class_0', 'class_1', 'class_2', 'class_3'])\n",
    "print(sr)"
   ]
  },
  {
   "cell_type": "code",
   "execution_count": 8,
   "id": "1a102389-b118-45bd-a9f3-818023b6c086",
   "metadata": {},
   "outputs": [
    {
     "name": "stdout",
     "output_type": "stream",
     "text": [
      "시리즈의 값: [17000 18000  1000  5000]\n",
      "시리즈의 인덱스: Index(['class_0', 'class_1', 'class_2', 'class_3'], dtype='object')\n"
     ]
    }
   ],
   "source": [
    "print(f'시리즈의 값: {sr.values}')\n",
    "print(f'시리즈의 인덱스: {sr.index}')"
   ]
  },
  {
   "cell_type": "markdown",
   "id": "907848fe-232f-4646-920d-de7f1da0d394",
   "metadata": {},
   "source": [
    "### 데이터 프레임"
   ]
  },
  {
   "cell_type": "code",
   "execution_count": 9,
   "id": "ce993559-9d70-49e8-8cf5-af929b9ec4a4",
   "metadata": {},
   "outputs": [
    {
     "name": "stdout",
     "output_type": "stream",
     "text": [
      "       A  B  C\n",
      "one    1  2  3\n",
      "two    4  5  6\n",
      "three  7  8  9\n"
     ]
    }
   ],
   "source": [
    "values = [[1, 2, 3], [4, 5, 6], [7, 8, 9]]\n",
    "index = ['one', 'two', 'three']\n",
    "columns = ['A', 'B', 'C']\n",
    "\n",
    "df = pd.DataFrame(values, index=index, columns=columns)\n",
    "\n",
    "print(df)"
   ]
  },
  {
   "cell_type": "code",
   "execution_count": 10,
   "id": "15e02d3c-9db9-4efe-a9f6-536f34099fc5",
   "metadata": {},
   "outputs": [
    {
     "name": "stdout",
     "output_type": "stream",
     "text": [
      "데이터프레임의 인덱스: Index(['one', 'two', 'three'], dtype='object')\n",
      "데이터프레임의 열이름: Index(['A', 'B', 'C'], dtype='object')\n",
      "데이터프레임의 값: \n",
      "[[1 2 3]\n",
      " [4 5 6]\n",
      " [7 8 9]]\n"
     ]
    }
   ],
   "source": [
    "print(f'데이터프레임의 인덱스: {df.index}')\n",
    "print(f'데이터프레임의 열이름: {df.columns}')\n",
    "print(f'데이터프레임의 값: \\n{df.values}')"
   ]
  },
  {
   "cell_type": "markdown",
   "id": "22ce2a61-c66a-4301-9660-b522712990c3",
   "metadata": {},
   "source": [
    "### 데이터 프레임의 생성"
   ]
  },
  {
   "cell_type": "code",
   "execution_count": 11,
   "id": "1fd2c980-645c-4699-8d5e-0770512c7d99",
   "metadata": {},
   "outputs": [
    {
     "name": "stdout",
     "output_type": "stream",
     "text": [
      "      0         1      2\n",
      "0  1000     Steve  90.72\n",
      "1  1001     James  78.09\n",
      "2  1002    Doyeon  98.43\n",
      "3  1003      Jane  64.19\n",
      "4  1004  Pilwoong  81.30\n",
      "5  1005      Tony  99.14\n"
     ]
    }
   ],
   "source": [
    "data = [\n",
    "    ['1000', 'Steve', 90.72],\n",
    "    ['1001', 'James', 78.09],\n",
    "    ['1002', 'Doyeon', 98.43],\n",
    "    ['1003', 'Jane', 64.19],\n",
    "    ['1004', 'Pilwoong', 81.30],\n",
    "    ['1005', 'Tony', 99.14],\n",
    "]\n",
    "\n",
    "df = pd.DataFrame(data)\n",
    "print(df)"
   ]
  },
  {
   "cell_type": "code",
   "execution_count": 12,
   "id": "47206009-3bcb-4192-bc0a-4f48c6e6d623",
   "metadata": {},
   "outputs": [
    {
     "name": "stdout",
     "output_type": "stream",
     "text": [
      "     학번        이름     점수\n",
      "0  1000     Steve  90.72\n",
      "1  1001     James  78.09\n",
      "2  1002    Doyeon  98.43\n",
      "3  1003      Jane  64.19\n",
      "4  1004  Pilwoong  81.30\n",
      "5  1005      Tony  99.14\n"
     ]
    }
   ],
   "source": [
    "df = pd.DataFrame(data, columns = ['학번', '이름', '점수'])\n",
    "print(df)"
   ]
  },
  {
   "cell_type": "code",
   "execution_count": 13,
   "id": "29edd9d3-2398-4591-8cf2-180dc6912351",
   "metadata": {},
   "outputs": [
    {
     "name": "stdout",
     "output_type": "stream",
     "text": [
      "     학번      이름     점수\n",
      "0  1000   Steve  90.72\n",
      "1  1001   James  78.09\n",
      "2  1002  Doyeon  98.43\n"
     ]
    }
   ],
   "source": [
    "print(df.head(3))"
   ]
  },
  {
   "cell_type": "code",
   "execution_count": 14,
   "id": "aa1b6ea1-cf35-4589-a9ca-441dd9ecef55",
   "metadata": {},
   "outputs": [
    {
     "name": "stdout",
     "output_type": "stream",
     "text": [
      "     학번        이름     점수\n",
      "3  1003      Jane  64.19\n",
      "4  1004  Pilwoong  81.30\n",
      "5  1005      Tony  99.14\n"
     ]
    }
   ],
   "source": [
    "print(df.tail(3))"
   ]
  },
  {
   "cell_type": "code",
   "execution_count": 15,
   "id": "1c06f744-3ad4-4dfd-867e-b86fcb0cd5a3",
   "metadata": {},
   "outputs": [
    {
     "name": "stdout",
     "output_type": "stream",
     "text": [
      "0    1000\n",
      "1    1001\n",
      "2    1002\n",
      "3    1003\n",
      "4    1004\n",
      "5    1005\n",
      "Name: 학번, dtype: object\n"
     ]
    }
   ],
   "source": [
    "print(df['학번'])"
   ]
  },
  {
   "cell_type": "code",
   "execution_count": 16,
   "id": "bd61d4d1-44fd-4213-9024-cf11964f6485",
   "metadata": {},
   "outputs": [
    {
     "name": "stdout",
     "output_type": "stream",
     "text": [
      "   student id     name   score\n",
      "0        1000     Steve  90.72\n",
      "1        1001     James  78.09\n",
      "2        1002    Doyeon  98.43\n",
      "3        1003      Jane  64.19\n",
      "4        1004  Pilwoong  81.30\n",
      "5        1005      Tony  99.14\n"
     ]
    }
   ],
   "source": [
    "df = pd.read_csv('example.csv')\n",
    "print(df)"
   ]
  },
  {
   "cell_type": "code",
   "execution_count": 17,
   "id": "929559cc-2470-46b5-a72e-867eaf567081",
   "metadata": {},
   "outputs": [
    {
     "name": "stdout",
     "output_type": "stream",
     "text": [
      "RangeIndex(start=0, stop=6, step=1)\n"
     ]
    }
   ],
   "source": [
    "print(df.index)"
   ]
  },
  {
   "cell_type": "markdown",
   "id": "81a8076f-562a-4ab9-b253-61ed75a87136",
   "metadata": {},
   "source": [
    "## 2.Numpy"
   ]
  },
  {
   "cell_type": "markdown",
   "id": "3a529330-d1cd-4e42-b606-a4634b28e128",
   "metadata": {},
   "source": [
    "### 1) np.array()"
   ]
  },
  {
   "cell_type": "code",
   "execution_count": 18,
   "id": "c39cd514-b98b-4a6b-8e6e-e2db896abb60",
   "metadata": {},
   "outputs": [],
   "source": [
    "import numpy as np"
   ]
  },
  {
   "cell_type": "code",
   "execution_count": 19,
   "id": "b5b28eba-91db-477f-95bc-8b8e1c85f354",
   "metadata": {},
   "outputs": [
    {
     "name": "stdout",
     "output_type": "stream",
     "text": [
      "[1 2 3 4 5]\n"
     ]
    }
   ],
   "source": [
    "vec = np.array([1, 2, 3, 4, 5])\n",
    "print(vec)"
   ]
  },
  {
   "cell_type": "code",
   "execution_count": 20,
   "id": "6728d31f-e793-4889-ade8-d0f0f52575b9",
   "metadata": {},
   "outputs": [
    {
     "name": "stdout",
     "output_type": "stream",
     "text": [
      "[[10 20 30]\n",
      " [40 50 60]]\n"
     ]
    }
   ],
   "source": [
    "mat = np.array([[10, 20, 30], [40, 50, 60]])\n",
    "print(mat)"
   ]
  },
  {
   "cell_type": "code",
   "execution_count": 21,
   "id": "8ecccf0e-d192-4f42-988b-2620cf75aa52",
   "metadata": {},
   "outputs": [
    {
     "name": "stdout",
     "output_type": "stream",
     "text": [
      "vec type: <class 'numpy.ndarray'>\n",
      "mat type: <class 'numpy.ndarray'>\n"
     ]
    }
   ],
   "source": [
    "print(f'vec type: {type(vec)}')\n",
    "print(f'mat type: {type(mat)}')"
   ]
  },
  {
   "cell_type": "code",
   "execution_count": 22,
   "id": "db047620-0e7e-4360-a2cc-c15fe45729ce",
   "metadata": {},
   "outputs": [
    {
     "name": "stdout",
     "output_type": "stream",
     "text": [
      "vec 축의 개수: 1\n",
      "vec의 크기: (5,)\n"
     ]
    }
   ],
   "source": [
    "print(f'vec 축의 개수: {vec.ndim}')\n",
    "print(f'vec의 크기: {vec.shape}')"
   ]
  },
  {
   "cell_type": "code",
   "execution_count": 23,
   "id": "eec64258-ea8d-40cd-a1fd-6c7e6515e538",
   "metadata": {},
   "outputs": [
    {
     "name": "stdout",
     "output_type": "stream",
     "text": [
      "mat의 축의 개수: 2\n",
      "mat의 크기: (2, 3)\n"
     ]
    }
   ],
   "source": [
    "print(f'mat의 축의 개수: {mat.ndim}')\n",
    "print(f'mat의 크기: {mat.shape}')"
   ]
  },
  {
   "cell_type": "markdown",
   "id": "950618ac-3162-48f8-8df2-f609d9782721",
   "metadata": {},
   "source": [
    "### 2) ndarray의 초기화"
   ]
  },
  {
   "cell_type": "code",
   "execution_count": 24,
   "id": "bb963400-b3af-46a8-b53b-ec79158d06cc",
   "metadata": {},
   "outputs": [
    {
     "name": "stdout",
     "output_type": "stream",
     "text": [
      "[[0. 0. 0.]\n",
      " [0. 0. 0.]]\n"
     ]
    }
   ],
   "source": [
    "zero_mat = np.zeros((2, 3))\n",
    "print(zero_mat)"
   ]
  },
  {
   "cell_type": "code",
   "execution_count": 25,
   "id": "a12f4b6f-bf5d-4729-b952-8a9a8fb4c1bf",
   "metadata": {},
   "outputs": [
    {
     "name": "stdout",
     "output_type": "stream",
     "text": [
      "[[1. 1. 1.]\n",
      " [1. 1. 1.]]\n"
     ]
    }
   ],
   "source": [
    "one_mat = np.ones((2, 3))\n",
    "print(one_mat)"
   ]
  },
  {
   "cell_type": "code",
   "execution_count": 26,
   "id": "1d8f1218-0e4e-4c02-8212-512d831c2f35",
   "metadata": {},
   "outputs": [
    {
     "name": "stdout",
     "output_type": "stream",
     "text": [
      "[[7 7]\n",
      " [7 7]]\n"
     ]
    }
   ],
   "source": [
    "same_value_mat = np.full((2, 2), 7)\n",
    "print(same_value_mat)"
   ]
  },
  {
   "cell_type": "code",
   "execution_count": 27,
   "id": "20b5dde8-11d5-45e3-b51e-7ad90277c5cc",
   "metadata": {},
   "outputs": [
    {
     "name": "stdout",
     "output_type": "stream",
     "text": [
      "[[1. 0. 0.]\n",
      " [0. 1. 0.]\n",
      " [0. 0. 1.]]\n"
     ]
    }
   ],
   "source": [
    "eye_mat = np.eye(3)\n",
    "print(eye_mat)"
   ]
  },
  {
   "cell_type": "code",
   "execution_count": 28,
   "id": "f181c8c8-1fac-46d3-a7e8-963ccd5c9b2a",
   "metadata": {},
   "outputs": [
    {
     "name": "stdout",
     "output_type": "stream",
     "text": [
      "[[0.59934132 0.76724973]\n",
      " [0.83682623 0.47044668]]\n"
     ]
    }
   ],
   "source": [
    "random_mat = np.random.random((2, 2))\n",
    "print(random_mat)"
   ]
  },
  {
   "cell_type": "markdown",
   "id": "68750292-fe6a-4a44-9a9d-9922d6c5bbf0",
   "metadata": {},
   "source": [
    "### 3) np.arange()"
   ]
  },
  {
   "cell_type": "code",
   "execution_count": 29,
   "id": "fdf54d44-10bf-440f-9ed9-da358b759930",
   "metadata": {},
   "outputs": [
    {
     "name": "stdout",
     "output_type": "stream",
     "text": [
      "[0 1 2 3 4 5 6 7 8 9]\n"
     ]
    }
   ],
   "source": [
    "range_vec = np.arange(10)\n",
    "print(range_vec)"
   ]
  },
  {
   "cell_type": "code",
   "execution_count": 30,
   "id": "46a470b8-9cc1-47ca-a0a5-43ef875873ea",
   "metadata": {},
   "outputs": [
    {
     "name": "stdout",
     "output_type": "stream",
     "text": [
      "[1 3 5 7 9]\n"
     ]
    }
   ],
   "source": [
    "n = 2\n",
    "range_n_step_vec = np.arange(1, 10, n)\n",
    "print(range_n_step_vec)"
   ]
  },
  {
   "cell_type": "markdown",
   "id": "282334b6-f051-4d93-8677-45807d20079f",
   "metadata": {},
   "source": [
    "### 4) np.reshape()"
   ]
  },
  {
   "cell_type": "code",
   "execution_count": 31,
   "id": "ea4f115f-e30d-4a70-969b-7954c10ce4b4",
   "metadata": {},
   "outputs": [
    {
     "name": "stdout",
     "output_type": "stream",
     "text": [
      "[[ 0  1  2  3  4  5]\n",
      " [ 6  7  8  9 10 11]\n",
      " [12 13 14 15 16 17]\n",
      " [18 19 20 21 22 23]\n",
      " [24 25 26 27 28 29]]\n"
     ]
    }
   ],
   "source": [
    "reshape_mat = np.array(np.arange(30)).reshape(5, 6)\n",
    "print(reshape_mat)"
   ]
  },
  {
   "cell_type": "markdown",
   "id": "8de53ebb-90ae-4a24-9155-401bb2b619d3",
   "metadata": {},
   "source": [
    "### 5) Numpy 슬라이싱"
   ]
  },
  {
   "cell_type": "code",
   "execution_count": 32,
   "id": "47485c7f-9774-4a0f-aa16-717ddc43b582",
   "metadata": {},
   "outputs": [
    {
     "name": "stdout",
     "output_type": "stream",
     "text": [
      "[[1 2 3]\n",
      " [4 5 6]]\n"
     ]
    }
   ],
   "source": [
    "mat = np.array([[1, 2, 3], [4, 5, 6]])\n",
    "print(mat)"
   ]
  },
  {
   "cell_type": "code",
   "execution_count": 33,
   "id": "24579a10-42f5-429f-89cd-92045615db40",
   "metadata": {},
   "outputs": [
    {
     "name": "stdout",
     "output_type": "stream",
     "text": [
      "[1 2 3]\n"
     ]
    }
   ],
   "source": [
    "slicing_mat = mat[0, :]\n",
    "print(slicing_mat)"
   ]
  },
  {
   "cell_type": "code",
   "execution_count": 34,
   "id": "6af8a326-cd15-4eb6-bdc8-1caee861db50",
   "metadata": {},
   "outputs": [
    {
     "name": "stdout",
     "output_type": "stream",
     "text": [
      "[4 5 6]\n"
     ]
    }
   ],
   "source": [
    "slicing_mat = mat[1, :]\n",
    "print(slicing_mat)"
   ]
  },
  {
   "cell_type": "code",
   "execution_count": 35,
   "id": "95705add-9d88-4371-9da0-15d563e44792",
   "metadata": {},
   "outputs": [
    {
     "name": "stdout",
     "output_type": "stream",
     "text": [
      "[3 6]\n"
     ]
    }
   ],
   "source": [
    "slicing_mat = mat[:, 2]\n",
    "print(slicing_mat)"
   ]
  },
  {
   "cell_type": "markdown",
   "id": "e7ba5f6e-f13a-42a0-b1ec-dd9d7653f701",
   "metadata": {},
   "source": [
    "### 6) Numpy 정수 인덱싱"
   ]
  },
  {
   "cell_type": "code",
   "execution_count": 37,
   "id": "4ac48b92-452c-4314-9fae-ce507d143a30",
   "metadata": {},
   "outputs": [
    {
     "name": "stdout",
     "output_type": "stream",
     "text": [
      "[[1 2]\n",
      " [4 5]\n",
      " [7 8]]\n"
     ]
    }
   ],
   "source": [
    "mat = np.array([[1, 2], [4, 5], [7, 8]])\n",
    "print(mat)"
   ]
  },
  {
   "cell_type": "code",
   "execution_count": 38,
   "id": "bfac782d-5536-440f-b135-974d12d582f8",
   "metadata": {},
   "outputs": [
    {
     "name": "stdout",
     "output_type": "stream",
     "text": [
      "4\n"
     ]
    }
   ],
   "source": [
    "print(mat[1, 0])"
   ]
  },
  {
   "cell_type": "code",
   "execution_count": 39,
   "id": "6f42a643-effb-48fc-83b0-19d775105cc9",
   "metadata": {},
   "outputs": [
    {
     "name": "stdout",
     "output_type": "stream",
     "text": [
      "[7 5]\n"
     ]
    }
   ],
   "source": [
    "# mat[[2행, 1행],[0열, 1열]]\n",
    "indexing_mat = mat[[2, 1], [0, 1]] # 2행 0열, 1행 1열 원소를 찾는 것임\n",
    "print(indexing_mat)"
   ]
  },
  {
   "cell_type": "markdown",
   "id": "ae7ba8d7-4dc5-46ac-af67-f5aaba4ef789",
   "metadata": {},
   "source": [
    "### 7) Numpy 연산"
   ]
  },
  {
   "cell_type": "code",
   "execution_count": 40,
   "id": "d024050d-d30e-43f6-9332-f9fd0d8281cd",
   "metadata": {},
   "outputs": [
    {
     "name": "stdout",
     "output_type": "stream",
     "text": [
      "[5 7 9]\n"
     ]
    }
   ],
   "source": [
    "x = np.array([1, 2, 3])\n",
    "y = np.array([4, 5, 6])\n",
    "\n",
    "result = x + y\n",
    "print(result)"
   ]
  },
  {
   "cell_type": "code",
   "execution_count": 41,
   "id": "466bd60a-e8b0-4d77-ba0d-e6a75c8cfb1c",
   "metadata": {},
   "outputs": [
    {
     "name": "stdout",
     "output_type": "stream",
     "text": [
      "[-3 -3 -3]\n"
     ]
    }
   ],
   "source": [
    "result = x - y\n",
    "print(result)"
   ]
  },
  {
   "cell_type": "code",
   "execution_count": 42,
   "id": "b88fd9a4-609c-4138-a4f1-670efd5836f4",
   "metadata": {},
   "outputs": [
    {
     "name": "stdout",
     "output_type": "stream",
     "text": [
      "[-3 -6 -9]\n"
     ]
    }
   ],
   "source": [
    "result = result * x\n",
    "print(result)"
   ]
  },
  {
   "cell_type": "code",
   "execution_count": 43,
   "id": "4fb3865e-ab7b-45df-8b7b-b517b5ec59a4",
   "metadata": {},
   "outputs": [
    {
     "name": "stdout",
     "output_type": "stream",
     "text": [
      "[-3. -3. -3.]\n"
     ]
    }
   ],
   "source": [
    "result = result / x\n",
    "print(result)"
   ]
  },
  {
   "cell_type": "code",
   "execution_count": 44,
   "id": "bbd3914f-d91a-4896-be14-760f0d64928e",
   "metadata": {},
   "outputs": [
    {
     "name": "stdout",
     "output_type": "stream",
     "text": [
      "[[19 22]\n",
      " [43 50]]\n"
     ]
    }
   ],
   "source": [
    "mat1 = np.array([[1, 2], [3, 4]])\n",
    "mat2 = np.array([[5, 6], [7, 8]])\n",
    "mat3 = np.dot(mat1, mat2) # 행렬곱\n",
    "print(mat3)"
   ]
  },
  {
   "cell_type": "markdown",
   "id": "d6c7bc51-0cb3-44d0-88f3-a42ad1bc38df",
   "metadata": {},
   "source": [
    "## 3.Matplotlib"
   ]
  },
  {
   "cell_type": "code",
   "execution_count": 45,
   "id": "d984d409-8ef4-4239-98c8-eae6b9ba33fb",
   "metadata": {},
   "outputs": [],
   "source": [
    "import matplotlib.pyplot as plt\n"
   ]
  },
  {
   "cell_type": "markdown",
   "id": "df31c082-4ae4-4070-9408-d3ecf0595eae",
   "metadata": {},
   "source": [
    "### 1) 라인 플롯 그리기"
   ]
  },
  {
   "cell_type": "code",
   "execution_count": 46,
   "id": "62b95d01-d7a3-4bb6-899f-0073d540da50",
   "metadata": {},
   "outputs": [
    {
     "data": {
      "image/png": "[encoded data removed]",
      "text/plain": [
       "<Figure size 640x480 with 1 Axes>"
      ]
     },
     "metadata": {},
     "output_type": "display_data"
    }
   ],
   "source": [
    "plt.title('test')\n",
    "plt.plot([1, 2, 3, 4], [2, 4, 8, 6])\n",
    "plt.show()"
   ]
  },
  {
   "cell_type": "code",
   "execution_count": 47,
   "id": "65e7841a-2afe-46e0-aaac-492281987ad2",
   "metadata": {},
   "outputs": [
    {
     "data": {
      "image/png": "[encoded data removed]",
      "text/plain": [
       "<Figure size 640x480 with 1 Axes>"
      ]
     },
     "metadata": {},
     "output_type": "display_data"
    }
   ],
   "source": [
    "plt.title('test')\n",
    "plt.plot([1, 2, 3, 4], [2, 4, 8, 6])\n",
    "plt.xlabel('hours')\n",
    "plt.ylabel('score')\n",
    "plt.show()\n"
   ]
  },
  {
   "cell_type": "code",
   "execution_count": 48,
   "id": "06b15f6a-cc88-472f-88ba-c6656f5e4b66",
   "metadata": {},
   "outputs": [
    {
     "data": {
      "image/png": "[encoded data removed]",
      "text/plain": [
       "<Figure size 640x480 with 1 Axes>"
      ]
     },
     "metadata": {},
     "output_type": "display_data"
    }
   ],
   "source": [
    "plt.title('students')\n",
    "plt.plot([1, 2, 3, 4], [2, 4 ,8, 6])\n",
    "plt.plot([1.5,2.5,3.5,4.5],[3,5,8,10])\n",
    "plt.xlabel('hours')\n",
    "plt.ylabel('score')\n",
    "plt.legend(['A', 'B'])\n",
    "plt.show()"
   ]
  },
  {
   "cell_type": "markdown",
   "id": "3b28ee7c-d636-417d-8702-a8148e128fff",
   "metadata": {},
   "source": [
    "## 4.데이터의 분리 (Splitting Data)"
   ]
  },
  {
   "cell_type": "markdown",
   "id": "08e09d35-2b25-4320-a9ae-89fa305a6a2a",
   "metadata": {},
   "source": [
    "### 1) X와 y 분리하기"
   ]
  },
  {
   "cell_type": "code",
   "execution_count": 49,
   "id": "7c49b4c9-ffae-41ec-8819-1d26adfec852",
   "metadata": {},
   "outputs": [
    {
     "name": "stdout",
     "output_type": "stream",
     "text": [
      "x data: ('a', 'b', 'c')\n",
      "y label: (1, 2, 3)\n"
     ]
    }
   ],
   "source": [
    "x, y = zip(['a', 1], ['b', 2], ['c', 3])\n",
    "print(f'x data: {x}')\n",
    "print(f'y label: {y}')"
   ]
  },
  {
   "cell_type": "code",
   "execution_count": 50,
   "id": "c86f5b7d-68df-4c8e-b510-4141fd5b55b6",
   "metadata": {},
   "outputs": [
    {
     "name": "stdout",
     "output_type": "stream",
     "text": [
      "x data: ('a', 'b', 'c')\n",
      "y label: (1, 2, 3)\n"
     ]
    }
   ],
   "source": [
    "sequences = [['a', 1], ['b', 2], ['c', 3]]\n",
    "x, y = zip(*sequences)\n",
    "print(f'x data: {x}')\n",
    "print(f'y label: {y}')"
   ]
  },
  {
   "cell_type": "markdown",
   "id": "36c26ada-cce7-4edf-b3bf-8fcb94abd503",
   "metadata": {},
   "source": [
    "#### (1) 데이터 프레임"
   ]
  },
  {
   "cell_type": "code",
   "execution_count": 52,
   "id": "8bb3536d-03c5-435d-91ab-3a8738d80a91",
   "metadata": {},
   "outputs": [
    {
     "data": {
      "text/html": [
       "<div>\n",
       "<style scoped>\n",
       "    .dataframe tbody tr th:only-of-type {\n",
       "        vertical-align: middle;\n",
       "    }\n",
       "\n",
       "    .dataframe tbody tr th {\n",
       "        vertical-align: top;\n",
       "    }\n",
       "\n",
       "    .dataframe thead th {\n",
       "        text-align: right;\n",
       "    }\n",
       "</style>\n",
       "<table border=\"1\" class=\"dataframe\">\n",
       "  <thead>\n",
       "    <tr style=\"text-align: right;\">\n",
       "      <th></th>\n",
       "      <th>메일 본문</th>\n",
       "      <th>스팸 메일 유무</th>\n",
       "    </tr>\n",
       "  </thead>\n",
       "  <tbody>\n",
       "    <tr>\n",
       "      <th>0</th>\n",
       "      <td>당신에게 드리는 마지막 혜택!</td>\n",
       "      <td>1</td>\n",
       "    </tr>\n",
       "    <tr>\n",
       "      <th>1</th>\n",
       "      <td>내일 뵐 수 있을지 확인 부탁드...</td>\n",
       "      <td>0</td>\n",
       "    </tr>\n",
       "    <tr>\n",
       "      <th>2</th>\n",
       "      <td>도연씨. 잘 지내시죠? 오랜만입...</td>\n",
       "      <td>0</td>\n",
       "    </tr>\n",
       "    <tr>\n",
       "      <th>3</th>\n",
       "      <td>(광고) AI로 주가를 예측할 수 있다!</td>\n",
       "      <td>1</td>\n",
       "    </tr>\n",
       "  </tbody>\n",
       "</table>\n",
       "</div>"
      ],
      "text/plain": [
       "                    메일 본문  스팸 메일 유무\n",
       "0        당신에게 드리는 마지막 혜택!         1\n",
       "1    내일 뵐 수 있을지 확인 부탁드...         0\n",
       "2    도연씨. 잘 지내시죠? 오랜만입...         0\n",
       "3  (광고) AI로 주가를 예측할 수 있다!         1"
      ]
     },
     "execution_count": 52,
     "metadata": {},
     "output_type": "execute_result"
    }
   ],
   "source": [
    "values = [\n",
    "    ['당신에게 드리는 마지막 혜택!', 1],\n",
    "    ['내일 뵐 수 있을지 확인 부탁드...', 0],\n",
    "    ['도연씨. 잘 지내시죠? 오랜만입...', 0],\n",
    "    ['(광고) AI로 주가를 예측할 수 있다!', 1]]\n",
    "columns = ['메일 본문', '스팸 메일 유무']\n",
    "df = pd.DataFrame(values, columns = columns)\n",
    "df"
   ]
  },
  {
   "cell_type": "code",
   "execution_count": 53,
   "id": "2b23bda8-0ff4-419b-9179-574a21746646",
   "metadata": {},
   "outputs": [
    {
     "name": "stdout",
     "output_type": "stream",
     "text": [
      "x data: ['당신에게 드리는 마지막 혜택!', '내일 뵐 수 있을지 확인 부탁드...', '도연씨. 잘 지내시죠? 오랜만입...', '(광고) AI로 주가를 예측할 수 있다!']\n",
      "y label: [1, 0, 0, 1]\n"
     ]
    }
   ],
   "source": [
    "x = df['메일 본문']\n",
    "y = df['스팸 메일 유무'] # 데이터 프레임 객체가 들어간다\n",
    "\n",
    "print(f'x data: {x.to_list()}') #  데이터 프레임을 리스트로 변경\n",
    "print(f'y label: {y.to_list()}')\n",
    "\n",
    "# print(f'x data: {x}')\n",
    "# print(f'y label: {y}')"
   ]
  },
  {
   "cell_type": "markdown",
   "id": "ebe4b687-d3a5-4756-b6c4-1b9be7945be5",
   "metadata": {},
   "source": [
    "#### (2) Numpy를 이용하여 분리하기"
   ]
  },
  {
   "cell_type": "code",
   "execution_count": 54,
   "id": "ab5df333-b023-4b8f-a0b6-f5c63e523ca7",
   "metadata": {},
   "outputs": [
    {
     "name": "stdout",
     "output_type": "stream",
     "text": [
      "[[ 0  1  2  3]\n",
      " [ 4  5  6  7]\n",
      " [ 8  9 10 11]\n",
      " [12 13 14 15]]\n"
     ]
    }
   ],
   "source": [
    "np_array = np.arange(0, 16).reshape((4, 4))\n",
    "print(np_array)"
   ]
  },
  {
   "cell_type": "code",
   "execution_count": 55,
   "id": "cdf7c23a-f884-44ad-9194-377a6cde9a28",
   "metadata": {},
   "outputs": [
    {
     "name": "stdout",
     "output_type": "stream",
     "text": [
      "x data: [[ 0  1  2]\n",
      " [ 4  5  6]\n",
      " [ 8  9 10]\n",
      " [12 13 14]]\n",
      "y label: [ 3  7 11 15]\n"
     ]
    }
   ],
   "source": [
    "x = np_array[:, :3]\n",
    "y = np_array[:, 3]\n",
    "print(f'x data: {x}')\n",
    "print(f'y label: {y}')"
   ]
  },
  {
   "cell_type": "markdown",
   "id": "2cb60074-06f4-4614-a4ce-4f2a2800e99f",
   "metadata": {},
   "source": [
    "### 2) trainset, testset 분리하기"
   ]
  },
  {
   "cell_type": "code",
   "execution_count": null,
   "id": "33c087b6-32e5-4ffb-bf08-e269a9ded170",
   "metadata": {},
   "outputs": [],
   "source": [
    "x_train, y_train, x_test, y_test = train_test_split(x, y, test_size= 0.2, random_state=1234)"
   ]
  },
  {
   "cell_type": "code",
   "execution_count": null,
   "id": "8e5087d5-1f10-4992-98e5-ccd3131dd314",
   "metadata": {},
   "outputs": [],
   "source": [
    "x, y = np.arange(10).reshape((5, 2)), range(5)\n",
    "\n",
    "print('x 전체 데이터 :')\n",
    "print(x)\n",
    "print('y 전체 데이터 :')\n",
    "print(list(y))"
   ]
  },
  {
   "cell_type": "markdown",
   "id": "166f2564-e899-4672-92ab-f9676cd3a13b",
   "metadata": {},
   "source": [
    "#### (2) 수동으로 분리"
   ]
  },
  {
   "cell_type": "code",
   "execution_count": 57,
   "id": "00ebb008-2135-497e-90cd-4a179322cc1a",
   "metadata": {},
   "outputs": [
    {
     "name": "stdout",
     "output_type": "stream",
     "text": [
      "x data: [[ 0  1]\n",
      " [ 2  3]\n",
      " [ 4  5]\n",
      " [ 6  7]\n",
      " [ 8  9]\n",
      " [10 11]\n",
      " [12 13]\n",
      " [14 15]\n",
      " [16 17]\n",
      " [18 19]\n",
      " [20 21]\n",
      " [22 23]]\n",
      "y label: [0, 1, 2, 3, 4, 5, 6, 7, 8, 9, 10, 11]\n"
     ]
    }
   ],
   "source": [
    "x, y = np.arange(0, 24).reshape((12, 2)), range(12)\n",
    "\n",
    "print(f'x data: {x}')\n",
    "print(f'y label: {list(y)}')"
   ]
  },
  {
   "cell_type": "code",
   "execution_count": 58,
   "id": "775d7e6d-193f-405b-a47a-e75bd0f99c85",
   "metadata": {},
   "outputs": [
    {
     "name": "stdout",
     "output_type": "stream",
     "text": [
      "num_of_train: 9\n",
      "num_of_test: 3\n"
     ]
    }
   ],
   "source": [
    "num_of_train = int(len(x)*0.8) # 데이터의 전체 길이의 80%에 해당하는 길이값을 구한다.\n",
    "num_of_test = int(len(x) - num_of_train) # 전체 길이에서 80%에 해당하는 길이를 뺀다.\n",
    "\n",
    "print(f'num_of_train: {num_of_train}')\n",
    "print(f'num_of_test: {num_of_test}')"
   ]
  },
  {
   "cell_type": "code",
   "execution_count": 59,
   "id": "12035835-9b66-40ee-8641-ec1aa5cedcce",
   "metadata": {},
   "outputs": [
    {
     "name": "stdout",
     "output_type": "stream",
     "text": [
      "x testdata: \n",
      "[[18 19]\n",
      " [20 21]\n",
      " [22 23]]\n",
      "y testdata: [9, 10, 11]\n"
     ]
    }
   ],
   "source": [
    "x_test = x[num_of_train:]\n",
    "y_test = y[num_of_train:]\n",
    "x_train = x[:num_of_train]\n",
    "y_train = y[:num_of_train]\n",
    "\n",
    "print(f'x testdata: \\n{x_test}')\n",
    "print(f'y testdata: {list(y_test)}')"
   ]
  }
 ],
 "metadata": {
  "kernelspec": {
   "display_name": "Python 3 (ipykernel)",
   "language": "python",
   "name": "python3"
  },
  "language_info": {
   "codemirror_mode": {
    "name": "ipython",
    "version": 3
   },
   "file_extension": ".py",
   "mimetype": "text/x-python",
   "name": "python",
   "nbconvert_exporter": "python",
   "pygments_lexer": "ipython3",
   "version": "3.11.7"
  }
 },
 "nbformat": 4,
 "nbformat_minor": 5
}
