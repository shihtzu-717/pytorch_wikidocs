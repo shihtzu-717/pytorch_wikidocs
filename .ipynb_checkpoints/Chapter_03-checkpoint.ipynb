{
 "cells": [
  {
   "cell_type": "markdown",
   "id": "87e149dd-3945-4c20-8949-043f1dadc0f0",
   "metadata": {
    "jp-MarkdownHeadingCollapsed": true
   },
   "source": [
    "# 1.선형 회귀(Linear Regression)"
   ]
  },
  {
   "cell_type": "markdown",
   "id": "e8928601-72e0-4b73-ad4f-86a411e6ef91",
   "metadata": {},
   "source": [
    "## 4. 파이토치로 선형 회귀 구현하기"
   ]
  },
  {
   "cell_type": "markdown",
   "id": "64976e1f-8acc-499b-b2cb-45501a8c7d0b",
   "metadata": {},
   "source": [
    "### 1. 기본 셋팅"
   ]
  },
  {
   "cell_type": "code",
   "execution_count": 1,
   "id": "e7fee978-97a1-4420-8906-df1a3b632808",
   "metadata": {},
   "outputs": [],
   "source": [
    "import torch\n",
    "import torch.nn as nn\n",
    "import torch.nn.functional as F\n",
    "import torch.optim as optim"
   ]
  },
  {
   "cell_type": "code",
   "execution_count": 2,
   "id": "34bbef6d-6161-4e40-8153-056629a33b89",
   "metadata": {},
   "outputs": [
    {
     "data": {
      "text/plain": [
       "<torch._C.Generator at 0x2173a4896d0>"
      ]
     },
     "execution_count": 2,
     "metadata": {},
     "output_type": "execute_result"
    }
   ],
   "source": [
    "# 현재 실습하고 있는 파이썬 코드를 재실행해도 다음에도 같은 결과가 나오도록 랜덤 시드(random seed)를 줍니다.\n",
    "torch.manual_seed(1)"
   ]
  },
  {
   "cell_type": "markdown",
   "id": "8f4baf51-a792-4dc4-9c02-9685fbe9cc9a",
   "metadata": {},
   "source": [
    "### 2. 변수 선언"
   ]
  },
  {
   "cell_type": "code",
   "execution_count": 3,
   "id": "2d9adc23-91b6-4d8e-92f6-21f92b2b518f",
   "metadata": {},
   "outputs": [],
   "source": [
    "x_train = torch.FloatTensor([[1], [2], [3]])\n",
    "y_train = torch.FloatTensor([[2], [4], [6]])"
   ]
  },
  {
   "cell_type": "code",
   "execution_count": 4,
   "id": "9fadea8c-e957-4fb9-a46e-1d580065918c",
   "metadata": {},
   "outputs": [
    {
     "name": "stdout",
     "output_type": "stream",
     "text": [
      "tensor([[1.],\n",
      "        [2.],\n",
      "        [3.]])\n",
      "torch.Size([3, 1])\n"
     ]
    }
   ],
   "source": [
    "print(x_train)\n",
    "print(x_train.shape)"
   ]
  },
  {
   "cell_type": "code",
   "execution_count": 5,
   "id": "d65f960a-4147-4205-93e8-fe8d8ada1a66",
   "metadata": {},
   "outputs": [
    {
     "name": "stdout",
     "output_type": "stream",
     "text": [
      "tensor([[2.],\n",
      "        [4.],\n",
      "        [6.]])\n",
      "torch.Size([3, 1])\n"
     ]
    }
   ],
   "source": [
    "print(y_train)\n",
    "print(y_train.shape)"
   ]
  },
  {
   "cell_type": "markdown",
   "id": "cf644b6b-ddb8-4cd1-84ba-39b3879e934d",
   "metadata": {},
   "source": [
    "### 3. 가중치와 편향의 초기화"
   ]
  },
  {
   "cell_type": "code",
   "execution_count": 6,
   "id": "b49da805-7f17-4c45-a84e-b24a0adf7541",
   "metadata": {},
   "outputs": [
    {
     "name": "stdout",
     "output_type": "stream",
     "text": [
      "tensor([0.], requires_grad=True)\n"
     ]
    }
   ],
   "source": [
    "# 가중치 W를 0으로 초기화하고 학습을 통해 값이 변경되는 변수임을 명시함.\n",
    "W = torch.zeros(1, requires_grad=True) \n",
    "# 가중치 W를 출력\n",
    "print(W) "
   ]
  },
  {
   "cell_type": "code",
   "execution_count": 7,
   "id": "0fd5581c-9d58-4ef2-9925-01f58a3fc1d6",
   "metadata": {},
   "outputs": [
    {
     "name": "stdout",
     "output_type": "stream",
     "text": [
      "tensor([0.], requires_grad=True)\n"
     ]
    }
   ],
   "source": [
    "b = torch.zeros(1, requires_grad=True)\n",
    "print(b)"
   ]
  },
  {
   "cell_type": "markdown",
   "id": "038cba37-b0cb-4dba-a1b6-be6b86366554",
   "metadata": {},
   "source": [
    "### 4. 가설 세우기"
   ]
  },
  {
   "cell_type": "code",
   "execution_count": 8,
   "id": "f60f31ad-d7d8-44f2-939d-31839c843d4b",
   "metadata": {},
   "outputs": [
    {
     "name": "stdout",
     "output_type": "stream",
     "text": [
      "tensor([[0.],\n",
      "        [0.],\n",
      "        [0.]], grad_fn=<AddBackward0>)\n"
     ]
    }
   ],
   "source": [
    "hypothesis = x_train * W + b\n",
    "print(hypothesis)"
   ]
  },
  {
   "cell_type": "markdown",
   "id": "79ae420c-f6ac-4049-8912-e0a3ad48040f",
   "metadata": {},
   "source": [
    "### 5. 비용 함수 선언하기"
   ]
  },
  {
   "cell_type": "code",
   "execution_count": 9,
   "id": "e556acf3-0032-4a2d-a377-bc3237ac5e32",
   "metadata": {},
   "outputs": [
    {
     "name": "stdout",
     "output_type": "stream",
     "text": [
      "tensor(18.6667, grad_fn=<MeanBackward0>)\n"
     ]
    }
   ],
   "source": [
    "cost = torch.mean((hypothesis - y_train) ** 2)\n",
    "print(cost)"
   ]
  },
  {
   "cell_type": "markdown",
   "id": "84fcb281-8f84-4a00-aec8-ea851f8ed946",
   "metadata": {},
   "source": [
    "### 6. 경사 하강법 구현하기"
   ]
  },
  {
   "cell_type": "code",
   "execution_count": 10,
   "id": "af41ded0-859c-4e1e-8a8b-59adfdf3a856",
   "metadata": {},
   "outputs": [],
   "source": [
    "optimizer = optim.SGD([W, b], lr = 0.01)"
   ]
  },
  {
   "cell_type": "code",
   "execution_count": 11,
   "id": "5dc5d1c1-df77-434c-83d1-3a1c29ee4fb6",
   "metadata": {},
   "outputs": [],
   "source": [
    "optimizer.zero_grad() # gradient를 0으로 초기화\n",
    "cost.backward() # 미분 구하기\n",
    "optimizer.step() # W, b를 update"
   ]
  },
  {
   "cell_type": "markdown",
   "id": "0d3ad56a-b55e-47c3-bb25-99abdcbf913c",
   "metadata": {},
   "source": [
    "### 7. 전체 코드"
   ]
  },
  {
   "cell_type": "code",
   "execution_count": 12,
   "id": "57c348aa-daa3-4e02-adc5-c10525a1b512",
   "metadata": {},
   "outputs": [
    {
     "name": "stdout",
     "output_type": "stream",
     "text": [
      "Epoch    0/2000 W: 0.187, b: 0.080 Cost: 18.666666\n",
      "Epoch  100/2000 W: 1.746, b: 0.578 Cost: 0.048171\n",
      "Epoch  200/2000 W: 1.800, b: 0.454 Cost: 0.029767\n",
      "Epoch  300/2000 W: 1.843, b: 0.357 Cost: 0.018394\n",
      "Epoch  400/2000 W: 1.876, b: 0.281 Cost: 0.011366\n",
      "Epoch  500/2000 W: 1.903, b: 0.221 Cost: 0.007024\n",
      "Epoch  600/2000 W: 1.924, b: 0.174 Cost: 0.004340\n",
      "Epoch  700/2000 W: 1.940, b: 0.136 Cost: 0.002682\n",
      "Epoch  800/2000 W: 1.953, b: 0.107 Cost: 0.001657\n",
      "Epoch  900/2000 W: 1.963, b: 0.084 Cost: 0.001024\n",
      "Epoch 1000/2000 W: 1.971, b: 0.066 Cost: 0.000633\n",
      "Epoch 1100/2000 W: 1.977, b: 0.052 Cost: 0.000391\n",
      "Epoch 1200/2000 W: 1.982, b: 0.041 Cost: 0.000242\n",
      "Epoch 1300/2000 W: 1.986, b: 0.032 Cost: 0.000149\n",
      "Epoch 1400/2000 W: 1.989, b: 0.025 Cost: 0.000092\n",
      "Epoch 1500/2000 W: 1.991, b: 0.020 Cost: 0.000057\n",
      "Epoch 1600/2000 W: 1.993, b: 0.016 Cost: 0.000035\n",
      "Epoch 1700/2000 W: 1.995, b: 0.012 Cost: 0.000022\n",
      "Epoch 1800/2000 W: 1.996, b: 0.010 Cost: 0.000013\n",
      "Epoch 1900/2000 W: 1.997, b: 0.008 Cost: 0.000008\n",
      "Epoch 2000/2000 W: 1.997, b: 0.006 Cost: 0.000005\n"
     ]
    }
   ],
   "source": [
    "x_train = torch.FloatTensor([[1], [2], [3]])\n",
    "y_train = torch.FloatTensor([[2], [4], [6]])\n",
    "\n",
    "W = torch.zeros(1, requires_grad=True) \n",
    "b = torch.zeros(1, requires_grad=True)\n",
    "\n",
    "optimizer = optim.SGD([W, b], lr = 0.01)\n",
    "\n",
    "nb_epochs = 2000\n",
    "for epoch in range(nb_epochs+1):\n",
    "    h = x_train * W + b\n",
    "    cost = torch.mean((y_train - h) ** 2)\n",
    "\n",
    "    optimizer.zero_grad()\n",
    "    cost.backward()\n",
    "    optimizer.step()\n",
    "\n",
    "    if epoch % 100 == 0:\n",
    "         print('Epoch {:4d}/{} W: {:.3f}, b: {:.3f} Cost: {:.6f}'.format(\n",
    "            epoch, nb_epochs, W.item(), b.item(), cost.item()\n",
    "        ))\n",
    "    "
   ]
  },
  {
   "cell_type": "markdown",
   "id": "711debe6-ed0a-4899-855b-8c8dd4ba97f6",
   "metadata": {},
   "source": [
    "## 5. optimizer.zero_grad()가 필요한 이유"
   ]
  },
  {
   "cell_type": "markdown",
   "id": "39fec720-3b9f-4c27-a350-b5eec4858938",
   "metadata": {},
   "source": [
    "파이토치는 미분을 통해 얻은 기울기를 이전에 계산된 기울기 값에 누적시키는 특징이 있습니다"
   ]
  },
  {
   "cell_type": "code",
   "execution_count": 13,
   "id": "d1ca0fea-41ad-4d8c-95ba-0ac8f6e1a11f",
   "metadata": {},
   "outputs": [
    {
     "name": "stdout",
     "output_type": "stream",
     "text": [
      "수식을 w로 미분한 값 : 2.0\n",
      "수식을 w로 미분한 값 : 4.0\n",
      "수식을 w로 미분한 값 : 6.0\n",
      "수식을 w로 미분한 값 : 8.0\n",
      "수식을 w로 미분한 값 : 10.0\n",
      "수식을 w로 미분한 값 : 12.0\n",
      "수식을 w로 미분한 값 : 14.0\n",
      "수식을 w로 미분한 값 : 16.0\n",
      "수식을 w로 미분한 값 : 18.0\n",
      "수식을 w로 미분한 값 : 20.0\n",
      "수식을 w로 미분한 값 : 22.0\n",
      "수식을 w로 미분한 값 : 24.0\n",
      "수식을 w로 미분한 값 : 26.0\n",
      "수식을 w로 미분한 값 : 28.0\n",
      "수식을 w로 미분한 값 : 30.0\n",
      "수식을 w로 미분한 값 : 32.0\n",
      "수식을 w로 미분한 값 : 34.0\n",
      "수식을 w로 미분한 값 : 36.0\n",
      "수식을 w로 미분한 값 : 38.0\n",
      "수식을 w로 미분한 값 : 40.0\n",
      "수식을 w로 미분한 값 : 42.0\n"
     ]
    }
   ],
   "source": [
    "import torch\n",
    "w = torch.tensor(2.0, requires_grad=True)\n",
    "\n",
    "nb_epochs = 20\n",
    "for epoch in range(nb_epochs + 1):\n",
    "\n",
    "  z = 2*w\n",
    "\n",
    "  z.backward()\n",
    "  print('수식을 w로 미분한 값 : {}'.format(w.grad))\n"
   ]
  },
  {
   "cell_type": "markdown",
   "id": "cf197f1e-cc36-43f1-b33e-409bb36145a9",
   "metadata": {
    "jp-MarkdownHeadingCollapsed": true
   },
   "source": [
    "# 2. 자동 미분 (Autograd)"
   ]
  },
  {
   "cell_type": "markdown",
   "id": "12fb5be7-edf9-470d-8c47-bd9e5eee3372",
   "metadata": {},
   "source": [
    "autograd을 사용하려면\n",
    "1. 미분할 텐서(변수) 선언할 때 requires_grad = True을 해야하고\n",
    "2. 2. backward()를 할 최종 output이 scalar 형태여야 한다."
   ]
  },
  {
   "cell_type": "code",
   "execution_count": 21,
   "id": "d8a15121-facb-4105-a9da-4b875bb6b0ad",
   "metadata": {},
   "outputs": [],
   "source": [
    "w = torch.tensor(2.0, requires_grad=True) \n",
    "# w 텐서에 대한 기울기를 저장하겠다는 의미로\n",
    "# w.grad 에 기울기가 저장된다."
   ]
  },
  {
   "cell_type": "code",
   "execution_count": 22,
   "id": "55752c75-3ce9-4736-9037-48f54f632d39",
   "metadata": {},
   "outputs": [],
   "source": [
    "y = w ** 2\n",
    "z = 2*y + 5 # z 함수 정의"
   ]
  },
  {
   "cell_type": "code",
   "execution_count": 23,
   "id": "89168bda-74a9-4630-9777-60e5720c0783",
   "metadata": {},
   "outputs": [
    {
     "name": "stdout",
     "output_type": "stream",
     "text": [
      "수식을 w로 미분한 값: 8.0\n"
     ]
    }
   ],
   "source": [
    "z.backward() # z 함수를 w에 대해 미분값을 구한다. requires_grad=True한 값을 구하게 되는 것\n",
    "print(f'수식을 w로 미분한 값: {w.grad}') # #가 속한 수식을 w로 미분한 값이 저장되었음"
   ]
  },
  {
   "cell_type": "markdown",
   "id": "5f96ddae-123b-41c8-9305-b2c9064af640",
   "metadata": {
    "jp-MarkdownHeadingCollapsed": true
   },
   "source": [
    "# 3. 다중 선형 회귀 (Multivariable Linear regression)"
   ]
  },
  {
   "cell_type": "markdown",
   "id": "51b3fca7-82b6-43da-8bd5-c1063e1ed94f",
   "metadata": {},
   "source": [
    "## 4.행렬 연산을 고려하여 파이토치로 구현하기"
   ]
  },
  {
   "cell_type": "code",
   "execution_count": 26,
   "id": "677b935a-8a4d-4d9f-b424-844ea094b6d9",
   "metadata": {},
   "outputs": [],
   "source": [
    "x_train  =  torch.FloatTensor([[73,  80,  75], \n",
    "                               [93,  88,  93], \n",
    "                               [89,  91,  80], \n",
    "                               [96,  98,  100],   \n",
    "                               [73,  66,  70]])  \n",
    "y_train  =  torch.FloatTensor([[152],  [185],  [180],  [196],  [142]])"
   ]
  },
  {
   "cell_type": "code",
   "execution_count": 25,
   "id": "0ea1f91a-895d-4f30-be5c-fa6440400e8a",
   "metadata": {},
   "outputs": [
    {
     "name": "stdout",
     "output_type": "stream",
     "text": [
      "torch.Size([5, 3])\n",
      "torch.Size([5, 1])\n"
     ]
    }
   ],
   "source": [
    "print(x_train.shape)\n",
    "print(y_train.shape)"
   ]
  },
  {
   "cell_type": "code",
   "execution_count": 28,
   "id": "858dfecc-2140-43a3-8175-a62aa82423ca",
   "metadata": {},
   "outputs": [],
   "source": [
    "# 가중치와 편향 선언\n",
    "W = torch.zeros((3, 1), requires_grad=True) # 데이터 feature 개수만큼 weight 선언\n",
    "b = torch.zeros(1, requires_grad=True)"
   ]
  },
  {
   "cell_type": "code",
   "execution_count": 29,
   "id": "0aa917a8-a68a-4048-9ffd-ee523f09d79f",
   "metadata": {},
   "outputs": [
    {
     "name": "stdout",
     "output_type": "stream",
     "text": [
      "Epoch    0/20 hypothesis: tensor([0., 0., 0.]) Cost: 29661.800781\n",
      "Epoch    1/20 hypothesis: tensor([0., 0., 0.]) Cost: 9537.694336\n",
      "Epoch    2/20 hypothesis: tensor([0., 0., 0.]) Cost: 3069.590088\n",
      "Epoch    3/20 hypothesis: tensor([0., 0., 0.]) Cost: 990.670898\n",
      "Epoch    4/20 hypothesis: tensor([0., 0., 0.]) Cost: 322.482086\n",
      "Epoch    5/20 hypothesis: tensor([0., 0., 0.]) Cost: 107.717064\n",
      "Epoch    6/20 hypothesis: tensor([0., 0., 0.]) Cost: 38.687496\n",
      "Epoch    7/20 hypothesis: tensor([0., 0., 0.]) Cost: 16.499043\n",
      "Epoch    8/20 hypothesis: tensor([0., 0., 0.]) Cost: 9.365656\n",
      "Epoch    9/20 hypothesis: tensor([0., 0., 0.]) Cost: 7.071114\n",
      "Epoch   10/20 hypothesis: tensor([0., 0., 0.]) Cost: 6.331847\n",
      "Epoch   11/20 hypothesis: tensor([0., 0., 0.]) Cost: 6.092532\n",
      "Epoch   12/20 hypothesis: tensor([0., 0., 0.]) Cost: 6.013817\n",
      "Epoch   13/20 hypothesis: tensor([0., 0., 0.]) Cost: 5.986785\n",
      "Epoch   14/20 hypothesis: tensor([0., 0., 0.]) Cost: 5.976325\n",
      "Epoch   15/20 hypothesis: tensor([0., 0., 0.]) Cost: 5.971208\n",
      "Epoch   16/20 hypothesis: tensor([0., 0., 0.]) Cost: 5.967835\n",
      "Epoch   17/20 hypothesis: tensor([0., 0., 0.]) Cost: 5.964969\n",
      "Epoch   18/20 hypothesis: tensor([0., 0., 0.]) Cost: 5.962291\n",
      "Epoch   19/20 hypothesis: tensor([0., 0., 0.]) Cost: 5.959664\n",
      "Epoch   20/20 hypothesis: tensor([0., 0., 0.]) Cost: 5.957089\n"
     ]
    }
   ],
   "source": [
    "x_train  =  torch.FloatTensor([[73,  80,  75], \n",
    "                               [93,  88,  93], \n",
    "                               [89,  91,  80], \n",
    "                               [96,  98,  100],   \n",
    "                               [73,  66,  70]])  \n",
    "y_train  =  torch.FloatTensor([[152],  [185],  [180],  [196],  [142]])\n",
    "\n",
    "W = torch.zeros((3, 1), requires_grad=True) \n",
    "b = torch.zeros(1, requires_grad=True)\n",
    "\n",
    "optimizer = optim.SGD([W, b], lr = 1e-5)\n",
    "nb_epochs = 20\n",
    "\n",
    "for epoch in range(nb_epochs+1):\n",
    "    h = x_train.matmul(W) + b\n",
    "    cost = torch.mean((h - y_train) ** 2 )\n",
    "\n",
    "    optimizer.zero_grad()\n",
    "    cost.backward()\n",
    "    optimizer.step()\n",
    "    print('Epoch {:4d}/{} hypothesis: {} Cost: {:.6f}'.format(\n",
    "        epoch, nb_epochs, hypothesis.squeeze().detach(), cost.item()\n",
    "    ))"
   ]
  },
  {
   "cell_type": "markdown",
   "id": "164064fe-4ca7-49cf-8762-c4e4d8974b40",
   "metadata": {
    "jp-MarkdownHeadingCollapsed": true
   },
   "source": [
    "# 4. nn.Module로 구현하는 선형 회귀"
   ]
  },
  {
   "cell_type": "markdown",
   "id": "0303f7fe-b561-475f-b5c3-a09fd2cfbc05",
   "metadata": {},
   "source": [
    "### 1. 단순 선형 회귀 구현하기"
   ]
  },
  {
   "cell_type": "code",
   "execution_count": 4,
   "id": "7d7e93c9-8317-4a9d-81ec-202de8313c7f",
   "metadata": {},
   "outputs": [],
   "source": [
    "import torch\n",
    "import torch.nn as nn\n",
    "import torch.nn.functional as F"
   ]
  },
  {
   "cell_type": "code",
   "execution_count": 5,
   "id": "29c541cd-8813-4309-956f-db3f5c5a3951",
   "metadata": {},
   "outputs": [
    {
     "data": {
      "text/plain": [
       "<torch._C.Generator at 0x27a98f76c10>"
      ]
     },
     "execution_count": 5,
     "metadata": {},
     "output_type": "execute_result"
    }
   ],
   "source": [
    "torch.manual_seed(1)"
   ]
  },
  {
   "cell_type": "code",
   "execution_count": 18,
   "id": "f7621e74-af82-4c4b-86b8-5ee99a01c2c8",
   "metadata": {},
   "outputs": [],
   "source": [
    "x_train = torch.FloatTensor([[1], [2], [3]])\n",
    "y_train = torch.FloatTensor([[2], [4], [6]])\n",
    "\n",
    "# input_dim = 1, output_dim = 1\n",
    "model = nn.Linear(1, 1)"
   ]
  },
  {
   "cell_type": "code",
   "execution_count": 19,
   "id": "76fd4b54-30a9-4709-8fa0-81663057d5df",
   "metadata": {},
   "outputs": [
    {
     "name": "stdout",
     "output_type": "stream",
     "text": [
      "[Parameter containing:\n",
      "tensor([[-0.1939]], requires_grad=True), Parameter containing:\n",
      "tensor([0.4694], requires_grad=True)]\n"
     ]
    }
   ],
   "source": [
    "print(list(model.parameters())) # 첫 번째 값이 W, 두 번째 값이 b"
   ]
  },
  {
   "cell_type": "code",
   "execution_count": 20,
   "id": "16d50cf6-0e3d-49af-b864-8e1740b8c2c1",
   "metadata": {},
   "outputs": [],
   "source": [
    "optimizer = torch.optim.SGD(model.parameters(), lr = 0.01)"
   ]
  },
  {
   "cell_type": "code",
   "execution_count": 21,
   "id": "b16cc8a5-06d2-4756-801f-301e6e9fad07",
   "metadata": {},
   "outputs": [
    {
     "name": "stdout",
     "output_type": "stream",
     "text": [
      "Epoch    0/2000 Cost: 18.562185\n",
      "Epoch  100/2000 Cost: 0.128051\n",
      "Epoch  200/2000 Cost: 0.079128\n",
      "Epoch  300/2000 Cost: 0.048896\n",
      "Epoch  400/2000 Cost: 0.030215\n",
      "Epoch  500/2000 Cost: 0.018671\n",
      "Epoch  600/2000 Cost: 0.011538\n",
      "Epoch  700/2000 Cost: 0.007129\n",
      "Epoch  800/2000 Cost: 0.004406\n",
      "Epoch  900/2000 Cost: 0.002722\n",
      "Epoch 1000/2000 Cost: 0.001682\n",
      "Epoch 1100/2000 Cost: 0.001040\n",
      "Epoch 1200/2000 Cost: 0.000642\n",
      "Epoch 1300/2000 Cost: 0.000397\n",
      "Epoch 1400/2000 Cost: 0.000245\n",
      "Epoch 1500/2000 Cost: 0.000152\n",
      "Epoch 1600/2000 Cost: 0.000094\n",
      "Epoch 1700/2000 Cost: 0.000058\n",
      "Epoch 1800/2000 Cost: 0.000036\n",
      "Epoch 1900/2000 Cost: 0.000022\n",
      "Epoch 2000/2000 Cost: 0.000014\n"
     ]
    }
   ],
   "source": [
    "nb_epochs = 2000\n",
    "for epoch in range(nb_epochs + 1):\n",
    "    pred = model(x_train)\n",
    "    cost = F.mse_loss(pred, y_train)\n",
    "\n",
    "    optimizer.zero_grad()\n",
    "    cost.backward() # loss 함수로부터 미분값을 구해야 하므로 cost에 backward 연산을 한다.\n",
    "    optimizer.step()\n",
    "\n",
    "    if epoch % 100 == 0:\n",
    "        print('Epoch {:4d}/{} Cost: {:.6f}'.format(\n",
    "          epoch, nb_epochs, cost.item()\n",
    "      ))"
   ]
  },
  {
   "cell_type": "code",
   "execution_count": 23,
   "id": "fe23dcdc-94ef-4f16-90b7-204e79c8f341",
   "metadata": {},
   "outputs": [
    {
     "name": "stdout",
     "output_type": "stream",
     "text": [
      "훈련 후 입력이 4일 때의 예측값 : tensor([[7.9926]], grad_fn=<AddmmBackward0>)\n"
     ]
    }
   ],
   "source": [
    "new_var = torch.FloatTensor([[4.0]])\n",
    "pred_y = model(new_var)\n",
    "print(\"훈련 후 입력이 4일 때의 예측값 :\", pred_y)"
   ]
  },
  {
   "cell_type": "code",
   "execution_count": 24,
   "id": "9743533d-3ee6-4271-b636-c3489318c001",
   "metadata": {},
   "outputs": [
    {
     "name": "stdout",
     "output_type": "stream",
     "text": [
      "[Parameter containing:\n",
      "tensor([[1.9957]], requires_grad=True), Parameter containing:\n",
      "tensor([0.0097], requires_grad=True)]\n"
     ]
    }
   ],
   "source": [
    "print(list(model.parameters())) \n",
    "# W의 값이 2에 가깝고, b의 값이 0에 가까움"
   ]
  },
  {
   "cell_type": "markdown",
   "id": "e6298b6e-2860-4d43-b762-6975435b2c85",
   "metadata": {},
   "source": [
    "### 2. 다중 선형 회귀 구현하기"
   ]
  },
  {
   "cell_type": "code",
   "execution_count": 26,
   "id": "42bf558d-70a1-4b32-8739-1ab8d12fbe44",
   "metadata": {},
   "outputs": [],
   "source": [
    "import torch\n",
    "import torch.nn as nn\n",
    "import torch.nn.functional as F"
   ]
  },
  {
   "cell_type": "code",
   "execution_count": 27,
   "id": "f847c3cc-4800-4b4c-89d1-f7d4735182e9",
   "metadata": {},
   "outputs": [
    {
     "data": {
      "text/plain": [
       "<torch._C.Generator at 0x27a98f76c10>"
      ]
     },
     "execution_count": 27,
     "metadata": {},
     "output_type": "execute_result"
    }
   ],
   "source": [
    "torch.manual_seed(1)"
   ]
  },
  {
   "cell_type": "code",
   "execution_count": 35,
   "id": "7c104cd1-8b2e-4d7d-9cf5-39f6c05d35b5",
   "metadata": {},
   "outputs": [],
   "source": [
    "# 데이터\n",
    "x_train = torch.FloatTensor([[73, 80, 75],\n",
    "                             [93, 88, 93],\n",
    "                             [89, 91, 90],\n",
    "                             [96, 98, 100],\n",
    "                             [73, 66, 70]])\n",
    "y_train = torch.FloatTensor([[152], [185], [180], [196], [142]])"
   ]
  },
  {
   "cell_type": "code",
   "execution_count": 36,
   "id": "04a8ec95-7eda-4ac2-8a77-56ee61d70379",
   "metadata": {},
   "outputs": [],
   "source": [
    "model = nn.Linear(3, 1) # input_dim=3, output_dim=1"
   ]
  },
  {
   "cell_type": "code",
   "execution_count": 37,
   "id": "4a3a104e-070d-40d4-bd28-3b46b896f13b",
   "metadata": {},
   "outputs": [
    {
     "name": "stdout",
     "output_type": "stream",
     "text": [
      "[Parameter containing:\n",
      "tensor([[ 0.0803, -0.0707,  0.1601]], requires_grad=True), Parameter containing:\n",
      "tensor([0.0285], requires_grad=True)]\n"
     ]
    }
   ],
   "source": [
    "print(list(model.parameters()))"
   ]
  },
  {
   "cell_type": "code",
   "execution_count": 38,
   "id": "34864ddf-7668-4ece-aac3-b73d9c7b14c2",
   "metadata": {},
   "outputs": [],
   "source": [
    "optimizer = torch.optim.SGD(model.parameters(), lr=1e-5)"
   ]
  },
  {
   "cell_type": "code",
   "execution_count": 39,
   "id": "ed2fc939-4f53-4d2d-945f-051e225635ea",
   "metadata": {},
   "outputs": [
    {
     "name": "stdout",
     "output_type": "stream",
     "text": [
      "Epoch    0/2000 Cost: 24821.373047\n",
      "Epoch  100/2000 Cost: 0.849148\n",
      "Epoch  200/2000 Cost: 0.825597\n",
      "Epoch  300/2000 Cost: 0.803225\n",
      "Epoch  400/2000 Cost: 0.781968\n",
      "Epoch  500/2000 Cost: 0.761779\n",
      "Epoch  600/2000 Cost: 0.742587\n",
      "Epoch  700/2000 Cost: 0.724357\n",
      "Epoch  800/2000 Cost: 0.707025\n",
      "Epoch  900/2000 Cost: 0.690548\n",
      "Epoch 1000/2000 Cost: 0.674883\n",
      "Epoch 1100/2000 Cost: 0.659985\n",
      "Epoch 1200/2000 Cost: 0.645810\n",
      "Epoch 1300/2000 Cost: 0.632342\n",
      "Epoch 1400/2000 Cost: 0.619514\n",
      "Epoch 1500/2000 Cost: 0.607307\n",
      "Epoch 1600/2000 Cost: 0.595689\n",
      "Epoch 1700/2000 Cost: 0.584616\n",
      "Epoch 1800/2000 Cost: 0.574081\n",
      "Epoch 1900/2000 Cost: 0.564045\n",
      "Epoch 2000/2000 Cost: 0.554474\n"
     ]
    }
   ],
   "source": [
    "nb_epochs - 2000\n",
    "\n",
    "for epoch in range(nb_epochs+1):\n",
    "    pred = model(x_train)\n",
    "    cost = F.mse_loss(pred, y_train)\n",
    "\n",
    "    optimizer.zero_grad()\n",
    "    cost.backward()\n",
    "    optimizer.step()\n",
    "\n",
    "    if epoch % 100 == 0:\n",
    "    # 100번마다 로그 출력\n",
    "      print('Epoch {:4d}/{} Cost: {:.6f}'.format(\n",
    "          epoch, nb_epochs, cost.item()\n",
    "      ))"
   ]
  },
  {
   "cell_type": "code",
   "execution_count": 41,
   "id": "a141f5f1-25b6-4126-a17b-d89f41e41389",
   "metadata": {},
   "outputs": [
    {
     "name": "stdout",
     "output_type": "stream",
     "text": [
      "훈련 후 입력이 73, 80, 75일 때의 예측값 : tensor([[151.6526]], grad_fn=<AddmmBackward0>)\n"
     ]
    }
   ],
   "source": [
    "# 임의의 입력 [73, 80, 75]를 선언\n",
    "new_var =  torch.FloatTensor([[73, 80, 75]]) \n",
    "# 입력한 값 [73, 80, 75]에 대해서 예측값 y를 리턴받아서 pred_y에 저장\n",
    "pred_y = model(new_var) \n",
    "print(\"훈련 후 입력이 73, 80, 75일 때의 예측값 :\", pred_y) "
   ]
  },
  {
   "cell_type": "code",
   "execution_count": 42,
   "id": "6343cf56-2026-479d-8f1b-99b5f8d31b03",
   "metadata": {},
   "outputs": [
    {
     "name": "stdout",
     "output_type": "stream",
     "text": [
      "[Parameter containing:\n",
      "tensor([[0.7497, 0.4868, 0.7725]], requires_grad=True), Parameter containing:\n",
      "tensor([0.0386], requires_grad=True)]\n"
     ]
    }
   ],
   "source": [
    "print(list(model.parameters()))"
   ]
  },
  {
   "cell_type": "markdown",
   "id": "16ff1f31-dd77-47c0-87ec-e29e694beb94",
   "metadata": {
    "jp-MarkdownHeadingCollapsed": true
   },
   "source": [
    "# 5. 클래스로 파이토치 모델 구현하기"
   ]
  },
  {
   "cell_type": "markdown",
   "id": "bfe62e16-adbe-4b7d-81be-196e0f2a9bb2",
   "metadata": {},
   "source": [
    "## 1. 모델을 클래스로 구현하기"
   ]
  },
  {
   "cell_type": "code",
   "execution_count": 43,
   "id": "adda32c8-12ef-48ba-8001-6f137258c9c0",
   "metadata": {},
   "outputs": [],
   "source": [
    "model = nn.Linear(1, 1)"
   ]
  },
  {
   "cell_type": "code",
   "execution_count": 46,
   "id": "cbb9241a-3bc8-44f4-9d1c-0c41a53b349f",
   "metadata": {},
   "outputs": [],
   "source": [
    "class LinearRegressionModel(nn.Module): # nn.Module 을 상속\n",
    "    def __init__(self):\n",
    "        super().__init__() # 부모 클래스인 nn.Module의 속성들을 불러옴\n",
    "        self.linear = nn.Linear(1, 1)\n",
    "    def forward(self, x):\n",
    "        return self.linear(x)"
   ]
  },
  {
   "cell_type": "code",
   "execution_count": 47,
   "id": "1d315d68-8bb0-4cc2-ace0-98b9302a3ed0",
   "metadata": {},
   "outputs": [],
   "source": [
    "model = LinearRegressionModel()"
   ]
  },
  {
   "cell_type": "code",
   "execution_count": 49,
   "id": "148f5f87-b955-4c4d-8353-d262032ef2df",
   "metadata": {},
   "outputs": [],
   "source": [
    "model = nn.Linear(3, 1)"
   ]
  },
  {
   "cell_type": "code",
   "execution_count": 50,
   "id": "217d2b75-799c-4f18-b5b2-33e5f948d6e8",
   "metadata": {},
   "outputs": [],
   "source": [
    "class MultivariateLinearRegressionModel(nn.Module): # nn.Module 을 상속\n",
    "    def __init__(self):\n",
    "        super().__init__() # 부모 클래스인 nn.Module의 속성들을 불러옴\n",
    "        self.linear = nn.Linear(3, 1) # fature가 3개인 데이터이고 output은 1개인 회귀모델\n",
    "    def forward(self, x):\n",
    "        return self.linear(x)"
   ]
  },
  {
   "cell_type": "code",
   "execution_count": 51,
   "id": "435d9d06-43b9-4c2f-9c67-9a50e497c6b3",
   "metadata": {},
   "outputs": [],
   "source": [
    "model = MultivariateLinearRegressionModel()"
   ]
  },
  {
   "cell_type": "markdown",
   "id": "dc8b1c87-6336-45ed-be9c-7cbaaae78257",
   "metadata": {},
   "source": [
    "## 2. 단순 선형 회귀 클래스로 구현하기"
   ]
  },
  {
   "cell_type": "code",
   "execution_count": 53,
   "id": "53a9f846-1fea-4374-ad55-125989b5e067",
   "metadata": {},
   "outputs": [],
   "source": [
    "import torch\n",
    "import torch.nn as nn\n",
    "import torch.nn.functional as F"
   ]
  },
  {
   "cell_type": "code",
   "execution_count": 54,
   "id": "83d3ec70-c741-4870-be2e-283187c32e89",
   "metadata": {},
   "outputs": [
    {
     "data": {
      "text/plain": [
       "<torch._C.Generator at 0x27a98f76c10>"
      ]
     },
     "execution_count": 54,
     "metadata": {},
     "output_type": "execute_result"
    }
   ],
   "source": [
    "torch.manual_seed(1)"
   ]
  },
  {
   "cell_type": "code",
   "execution_count": 55,
   "id": "c8ea6456-26af-4a92-be88-ca36ed26ea40",
   "metadata": {},
   "outputs": [],
   "source": [
    "x_train = torch.FloatTensor([[1], [2], [3]])\n",
    "y_train = torch.FloatTensor([[2], [4], [6]])"
   ]
  },
  {
   "cell_type": "code",
   "execution_count": 63,
   "id": "40ede58b-142d-47b3-a178-b1eb289c7c85",
   "metadata": {},
   "outputs": [],
   "source": [
    "class LinearRegressionModel(nn.Module):\n",
    "    def __init__(self):\n",
    "        super().__init__()\n",
    "        self.linear = nn.Linear(1, 1)\n",
    "    def forward(self, x):\n",
    "        return self.linear(x)"
   ]
  },
  {
   "cell_type": "code",
   "execution_count": 64,
   "id": "7c875067-808c-4096-bed2-8cc220bdad1c",
   "metadata": {},
   "outputs": [],
   "source": [
    "model = LinearRegressionModel()"
   ]
  },
  {
   "cell_type": "code",
   "execution_count": 65,
   "id": "9073c83f-b3f1-4e54-aaf3-eed7f8b723e1",
   "metadata": {},
   "outputs": [],
   "source": [
    "optimizer = torch.optim.SGD(model.parameters(), lr=0.01)"
   ]
  },
  {
   "cell_type": "code",
   "execution_count": 67,
   "id": "05d5cbcd-f436-4de3-9315-2d28f4c0fb8e",
   "metadata": {},
   "outputs": [
    {
     "name": "stdout",
     "output_type": "stream",
     "text": [
      "Epoch    0/2000 Cost: 0.000014\n",
      "Epoch  100/2000 Cost: 0.000008\n",
      "Epoch  200/2000 Cost: 0.000005\n",
      "Epoch  300/2000 Cost: 0.000003\n",
      "Epoch  400/2000 Cost: 0.000002\n",
      "Epoch  500/2000 Cost: 0.000001\n",
      "Epoch  600/2000 Cost: 0.000001\n",
      "Epoch  700/2000 Cost: 0.000000\n",
      "Epoch  800/2000 Cost: 0.000000\n",
      "Epoch  900/2000 Cost: 0.000000\n",
      "Epoch 1000/2000 Cost: 0.000000\n",
      "Epoch 1100/2000 Cost: 0.000000\n",
      "Epoch 1200/2000 Cost: 0.000000\n",
      "Epoch 1300/2000 Cost: 0.000000\n",
      "Epoch 1400/2000 Cost: 0.000000\n",
      "Epoch 1500/2000 Cost: 0.000000\n",
      "Epoch 1600/2000 Cost: 0.000000\n",
      "Epoch 1700/2000 Cost: 0.000000\n",
      "Epoch 1800/2000 Cost: 0.000000\n",
      "Epoch 1900/2000 Cost: 0.000000\n",
      "Epoch 2000/2000 Cost: 0.000000\n"
     ]
    }
   ],
   "source": [
    "nb_epochs = 2000\n",
    "for epoch in range(nb_epochs+1):\n",
    "    pred = model(x_train)\n",
    "    cost = F.mse_loss(pred, y_train)\n",
    "\n",
    "    # gradient를 0으로 초기화\n",
    "    optimizer.zero_grad()\n",
    "    # 비용 함수를 미분하여 gradient 계산\n",
    "    cost.backward()\n",
    "    # W와 b를 업데이트\n",
    "    optimizer.step()\n",
    "\n",
    "    if epoch % 100 == 0:\n",
    "    # 100번마다 로그 출력\n",
    "      print('Epoch {:4d}/{} Cost: {:.6f}'.format(\n",
    "          epoch, nb_epochs, cost.item()\n",
    "      ))"
   ]
  },
  {
   "cell_type": "markdown",
   "id": "7588a037-fd2b-49d4-868f-1cf671c6c51c",
   "metadata": {},
   "source": [
    "## 3. 다중 선형 회귀 클래스로 구현하기"
   ]
  },
  {
   "cell_type": "code",
   "execution_count": 68,
   "id": "d2e74f42-1a31-4c9f-af74-a68eb041f49e",
   "metadata": {},
   "outputs": [],
   "source": [
    "import torch\n",
    "import torch.nn as nn\n",
    "import torch.nn.functional as F"
   ]
  },
  {
   "cell_type": "code",
   "execution_count": 69,
   "id": "87d1cb43-47b9-4a8b-8c5a-4d7c6b599ac9",
   "metadata": {},
   "outputs": [
    {
     "data": {
      "text/plain": [
       "<torch._C.Generator at 0x27a98f76c10>"
      ]
     },
     "execution_count": 69,
     "metadata": {},
     "output_type": "execute_result"
    }
   ],
   "source": [
    "torch.manual_seed(1)"
   ]
  },
  {
   "cell_type": "code",
   "execution_count": 71,
   "id": "1c4e1af1-5a23-47b9-ac75-9f7be811db0b",
   "metadata": {},
   "outputs": [],
   "source": [
    "# 데이터\n",
    "x_train = torch.FloatTensor([[73, 80, 75],\n",
    "                             [93, 88, 93],\n",
    "                             [89, 91, 90],\n",
    "                             [96, 98, 100],\n",
    "                             [73, 66, 70]])\n",
    "y_train = torch.FloatTensor([[152], [185], [180], [196], [142]])"
   ]
  },
  {
   "cell_type": "code",
   "execution_count": 72,
   "id": "5ed30618-68d2-42e8-b420-266db603f973",
   "metadata": {},
   "outputs": [],
   "source": [
    "class MultivariateLinearRegressionModel(nn.Module):\n",
    "    def __init__(self):\n",
    "        super().__init__()\n",
    "        self.linear = nn.Linear(3, 1)\n",
    "\n",
    "    def forward(self, x):\n",
    "        return self.linear(x)\n"
   ]
  },
  {
   "cell_type": "code",
   "execution_count": 73,
   "id": "dd1c2c03-18f5-48a7-a6c1-4c57666ced3b",
   "metadata": {},
   "outputs": [],
   "source": [
    "model = MultivariateLinearRegressionModel()"
   ]
  },
  {
   "cell_type": "code",
   "execution_count": 74,
   "id": "520a001c-1354-40db-9008-b6169e695471",
   "metadata": {},
   "outputs": [],
   "source": [
    "optimizer = torch.optim.SGD(model.parameters(), lr=1e-5)"
   ]
  },
  {
   "cell_type": "code",
   "execution_count": 76,
   "id": "6bafe8bd-1076-401c-9a00-7e93feb0a907",
   "metadata": {},
   "outputs": [
    {
     "name": "stdout",
     "output_type": "stream",
     "text": [
      "Epoch    0/2000 Cost: 31667.599609\n",
      "Epoch  100/2000 Cost: 0.225993\n",
      "Epoch  200/2000 Cost: 0.223911\n",
      "Epoch  300/2000 Cost: 0.221941\n",
      "Epoch  400/2000 Cost: 0.220059\n",
      "Epoch  500/2000 Cost: 0.218271\n",
      "Epoch  600/2000 Cost: 0.216575\n",
      "Epoch  700/2000 Cost: 0.214950\n",
      "Epoch  800/2000 Cost: 0.213413\n",
      "Epoch  900/2000 Cost: 0.211952\n",
      "Epoch 1000/2000 Cost: 0.210559\n",
      "Epoch 1100/2000 Cost: 0.209230\n",
      "Epoch 1200/2000 Cost: 0.207967\n",
      "Epoch 1300/2000 Cost: 0.206762\n",
      "Epoch 1400/2000 Cost: 0.205618\n",
      "Epoch 1500/2000 Cost: 0.204529\n",
      "Epoch 1600/2000 Cost: 0.203481\n",
      "Epoch 1700/2000 Cost: 0.202486\n",
      "Epoch 1800/2000 Cost: 0.201539\n",
      "Epoch 1900/2000 Cost: 0.200634\n",
      "Epoch 2000/2000 Cost: 0.199770\n"
     ]
    }
   ],
   "source": [
    "nb_epochs = 2000\n",
    "for epoch in range(nb_epochs + 1):\n",
    "    pred = model.forward(x_train)\n",
    "    cost = F.mse_loss(pred, y_train)\n",
    "\n",
    "    optimizer.zero_grad()\n",
    "    cost.backward()\n",
    "    optimizer.step()\n",
    "\n",
    "    if epoch % 100 == 0:\n",
    "    # 100번마다 로그 출력\n",
    "      print('Epoch {:4d}/{} Cost: {:.6f}'.format(\n",
    "          epoch, nb_epochs, cost.item()\n",
    "      ))\n"
   ]
  },
  {
   "cell_type": "markdown",
   "id": "508792f0-8b90-4508-96bc-7db42625a419",
   "metadata": {},
   "source": [
    "# 6. mini batch and data load"
   ]
  },
  {
   "cell_type": "markdown",
   "id": "3000102e-70eb-431f-9430-b94ee24f5cc5",
   "metadata": {},
   "source": [
    "## 3. 데이터 로드하기(Data Load)"
   ]
  },
  {
   "cell_type": "code",
   "execution_count": 123,
   "id": "63cdc01d-9339-4a01-90a3-6b3ca77c537e",
   "metadata": {},
   "outputs": [],
   "source": [
    "import torch\n",
    "import torch.nn as nn\n",
    "import torch.nn.functional as F"
   ]
  },
  {
   "cell_type": "code",
   "execution_count": 124,
   "id": "f942fc44-c0c1-4b99-87d8-6119a342f707",
   "metadata": {},
   "outputs": [],
   "source": [
    "from torch.utils.data import TensorDataset\n",
    "from torch.utils.data import DataLoader"
   ]
  },
  {
   "cell_type": "code",
   "execution_count": 125,
   "id": "62cd5fe0-65d3-4b99-a412-0f8e8bd2542e",
   "metadata": {},
   "outputs": [],
   "source": [
    "x_train  =  torch.FloatTensor([[73,  80,  75], \n",
    "                               [93,  88,  93], \n",
    "                               [89,  91,  90], \n",
    "                               [96,  98,  100],   \n",
    "                               [73,  66,  70]])  \n",
    "y_train  =  torch.FloatTensor([[152],  [185],  [180],  [196],  [142]])"
   ]
  },
  {
   "cell_type": "code",
   "execution_count": 126,
   "id": "27fed18c-4dc9-4e0e-940c-09e68d19a1ad",
   "metadata": {},
   "outputs": [],
   "source": [
    "dataset = TensorDataset(x_train, y_train)"
   ]
  },
  {
   "cell_type": "code",
   "execution_count": 127,
   "id": "3282305b-5471-4eeb-93ef-e424e6c2079e",
   "metadata": {},
   "outputs": [],
   "source": [
    "dataloader = DataLoader(dataset, batch_size=2, shuffle=True) \n",
    "# TensorDataset으로 파이토치의 데이터 셋을 먼저 만들고 나서 DataLoader를 사용할 수 있다.\n",
    "# batch_size를 설정해 미니 배치의 크기를 설정한다. 보통 2의 제곱수로 사용\n",
    "# 그리고 모델이 순서를 외울 수도 있으니 shuffle을 사용해서 epoch 마다 데이터를 섞어 준다."
   ]
  },
  {
   "cell_type": "code",
   "execution_count": 131,
   "id": "d0847fc9-a420-4089-a598-63837f1024b9",
   "metadata": {},
   "outputs": [],
   "source": [
    "model = nn.Linear(3, 1)\n",
    "optimizer = torch.optim.SGD(model.parameters(), lr=1e-5)"
   ]
  },
  {
   "cell_type": "code",
   "execution_count": 132,
   "id": "383bc071-ce2b-4cc6-923a-d169e94605d5",
   "metadata": {},
   "outputs": [
    {
     "name": "stdout",
     "output_type": "stream",
     "text": [
      "Epoch    0/20 Batch 1/3 Cost: 7761.881836\n",
      "Epoch    0/20 Batch 2/3 Cost: 5664.168945\n",
      "Epoch    0/20 Batch 3/3 Cost: 1622.372559\n",
      "Epoch    1/20 Batch 1/3 Cost: 251.180710\n",
      "Epoch    1/20 Batch 2/3 Cost: 65.123856\n",
      "Epoch    1/20 Batch 3/3 Cost: 34.578045\n",
      "Epoch    2/20 Batch 1/3 Cost: 11.471296\n",
      "Epoch    2/20 Batch 2/3 Cost: 0.460203\n",
      "Epoch    2/20 Batch 3/3 Cost: 10.230608\n",
      "Epoch    3/20 Batch 1/3 Cost: 3.953969\n",
      "Epoch    3/20 Batch 2/3 Cost: 3.473601\n",
      "Epoch    3/20 Batch 3/3 Cost: 8.707434\n",
      "Epoch    4/20 Batch 1/3 Cost: 8.175498\n",
      "Epoch    4/20 Batch 2/3 Cost: 3.441955\n",
      "Epoch    4/20 Batch 3/3 Cost: 5.132642\n",
      "Epoch    5/20 Batch 1/3 Cost: 7.066340\n",
      "Epoch    5/20 Batch 2/3 Cost: 3.582833\n",
      "Epoch    5/20 Batch 3/3 Cost: 6.347807\n",
      "Epoch    6/20 Batch 1/3 Cost: 4.335005\n",
      "Epoch    6/20 Batch 2/3 Cost: 6.324486\n",
      "Epoch    6/20 Batch 3/3 Cost: 0.933870\n",
      "Epoch    7/20 Batch 1/3 Cost: 2.911813\n",
      "Epoch    7/20 Batch 2/3 Cost: 5.324221\n",
      "Epoch    7/20 Batch 3/3 Cost: 9.607294\n",
      "Epoch    8/20 Batch 1/3 Cost: 2.368210\n",
      "Epoch    8/20 Batch 2/3 Cost: 7.541275\n",
      "Epoch    8/20 Batch 3/3 Cost: 7.874491\n",
      "Epoch    9/20 Batch 1/3 Cost: 8.451716\n",
      "Epoch    9/20 Batch 2/3 Cost: 3.336211\n",
      "Epoch    9/20 Batch 3/3 Cost: 4.996592\n",
      "Epoch   10/20 Batch 1/3 Cost: 5.538737\n",
      "Epoch   10/20 Batch 2/3 Cost: 5.720039\n",
      "Epoch   10/20 Batch 3/3 Cost: 5.658033\n",
      "Epoch   11/20 Batch 1/3 Cost: 9.553787\n",
      "Epoch   11/20 Batch 2/3 Cost: 6.380404\n",
      "Epoch   11/20 Batch 3/3 Cost: 2.089722\n",
      "Epoch   12/20 Batch 1/3 Cost: 5.739936\n",
      "Epoch   12/20 Batch 2/3 Cost: 1.678334\n",
      "Epoch   12/20 Batch 3/3 Cost: 7.039704\n",
      "Epoch   13/20 Batch 1/3 Cost: 6.524171\n",
      "Epoch   13/20 Batch 2/3 Cost: 8.007479\n",
      "Epoch   13/20 Batch 3/3 Cost: 1.480743\n",
      "Epoch   14/20 Batch 1/3 Cost: 5.665686\n",
      "Epoch   14/20 Batch 2/3 Cost: 1.253095\n",
      "Epoch   14/20 Batch 3/3 Cost: 8.314655\n",
      "Epoch   15/20 Batch 1/3 Cost: 2.089673\n",
      "Epoch   15/20 Batch 2/3 Cost: 6.371689\n",
      "Epoch   15/20 Batch 3/3 Cost: 4.362920\n",
      "Epoch   16/20 Batch 1/3 Cost: 2.049300\n",
      "Epoch   16/20 Batch 2/3 Cost: 5.510839\n",
      "Epoch   16/20 Batch 3/3 Cost: 6.259235\n",
      "Epoch   17/20 Batch 1/3 Cost: 4.106702\n",
      "Epoch   17/20 Batch 2/3 Cost: 2.228027\n",
      "Epoch   17/20 Batch 3/3 Cost: 9.011814\n",
      "Epoch   18/20 Batch 1/3 Cost: 6.161329\n",
      "Epoch   18/20 Batch 2/3 Cost: 0.890882\n",
      "Epoch   18/20 Batch 3/3 Cost: 7.735606\n",
      "Epoch   19/20 Batch 1/3 Cost: 2.418152\n",
      "Epoch   19/20 Batch 2/3 Cost: 5.576251\n",
      "Epoch   19/20 Batch 3/3 Cost: 6.857420\n",
      "Epoch   20/20 Batch 1/3 Cost: 4.180666\n",
      "Epoch   20/20 Batch 2/3 Cost: 6.113298\n",
      "Epoch   20/20 Batch 3/3 Cost: 0.865852\n"
     ]
    }
   ],
   "source": [
    "nb_epochs = 20\n",
    "for epoch in range(nb_epochs+1):\n",
    "    for batch_idx, samples in enumerate(dataloader):\n",
    "        # print(batch_idx)\n",
    "        # print(samples)\n",
    "        x_train, y_train = samples\n",
    "        # print(len(x_train))\n",
    "        pred = model(x_train) # 배치로 들어가도 잘 계산해줌\n",
    "        cost = F.mse_loss(pred, y_train)\n",
    "\n",
    "        optimizer.zero_grad()\n",
    "        cost.backward()\n",
    "        optimizer.step()\n",
    "\n",
    "        print('Epoch {:4d}/{} Batch {}/{} Cost: {:.6f}'.format(\n",
    "            epoch, nb_epochs, batch_idx+1, len(dataloader), cost.item()))\n",
    "\n",
    "# dataloader를 사용하면 데이터하고 라벨이 묶여져서 나옴"
   ]
  },
  {
   "cell_type": "code",
   "execution_count": 92,
   "id": "24fa479b-c0a8-4707-865b-39299f4300e8",
   "metadata": {},
   "outputs": [
    {
     "name": "stdout",
     "output_type": "stream",
     "text": [
      "훈련 후 입력이 73, 80, 75일 때의 예측값 : tensor([[151.3689]], grad_fn=<AddmmBackward0>)\n"
     ]
    }
   ],
   "source": [
    "# 임의의 입력 [73, 80, 75]를 선언\n",
    "new_var =  torch.FloatTensor([[73, 80, 75]]) \n",
    "# 입력한 값 [73, 80, 75]에 대해서 예측값 y를 리턴받아서 pred_y에 저장\n",
    "pred_y = model(new_var) \n",
    "print(\"훈련 후 입력이 73, 80, 75일 때의 예측값 :\", pred_y) "
   ]
  },
  {
   "cell_type": "markdown",
   "id": "c7cf214f-2c44-4aa8-99f4-cc75b7299a1c",
   "metadata": {
    "jp-MarkdownHeadingCollapsed": true
   },
   "source": [
    "# 7. Custom Dataset"
   ]
  },
  {
   "cell_type": "markdown",
   "id": "ff201bdb-c2c6-40e5-9bf6-8c73b6d3ff94",
   "metadata": {},
   "source": [
    "## 1. custom dataset"
   ]
  },
  {
   "cell_type": "code",
   "execution_count": 93,
   "id": "00f5c446-5a51-41eb-a93a-e16fd8d96726",
   "metadata": {},
   "outputs": [
    {
     "ename": "IndentationError",
     "evalue": "expected an indented block after function definition on line 2 (2187119077.py, line 3)",
     "output_type": "error",
     "traceback": [
      "\u001b[1;36m  Cell \u001b[1;32mIn[93], line 3\u001b[1;36m\u001b[0m\n\u001b[1;33m    데이터셋의 전처리를 해주는 부분\u001b[0m\n\u001b[1;37m    ^\u001b[0m\n\u001b[1;31mIndentationError\u001b[0m\u001b[1;31m:\u001b[0m expected an indented block after function definition on line 2\n"
     ]
    }
   ],
   "source": [
    "class CustomDataset(torch.utils.data.Dataset): \n",
    "  def __init__(self):\n",
    "  데이터셋의 전처리를 해주는 부분\n",
    "\n",
    "  def __len__(self):\n",
    "  데이터셋의 길이. 즉, 총 샘플의 수를 적어주는 부분\n",
    "\n",
    "  def __getitem__(self, idx): \n",
    "  데이터셋에서 특정 1개의 샘플을 가져오는 함수"
   ]
  },
  {
   "cell_type": "markdown",
   "id": "a6facbd3-ad2a-4aac-b700-7c986e9d0c95",
   "metadata": {},
   "source": [
    "## 2. 커스텀 데이터셋(Custom Dataset)으로 선형 회귀 구현하기"
   ]
  },
  {
   "cell_type": "code",
   "execution_count": 94,
   "id": "fbe01e8b-d078-445a-9050-5a4a8549c1c0",
   "metadata": {},
   "outputs": [],
   "source": [
    "import torch\n",
    "import torch.nn.functional as F\n",
    "from torch.utils.data import Dataset\n",
    "from torch.utils.data import DataLoader"
   ]
  },
  {
   "cell_type": "code",
   "execution_count": 100,
   "id": "96dc4f13-6b96-429a-a582-c6c0bfbce4cc",
   "metadata": {},
   "outputs": [],
   "source": [
    "class CustomDataset(Dataset):\n",
    "    def __init__(self):\n",
    "        self.x_data = [[73, 80, 75],\n",
    "                   [93, 88, 93],\n",
    "                   [89, 91, 90],\n",
    "                   [96, 98, 100],\n",
    "                   [73, 66, 70]]\n",
    "        self.y_data = [[152], [185], [180], [196], [142]]\n",
    "    def __len__(self):\n",
    "        return len(self.x_data)\n",
    "\n",
    "    def __getitem__(self, idx):\n",
    "        x = torch.FloatTensor(self.x_data[idx])\n",
    "        y = torch.FloatTensor(self.y_data[idx])\n",
    "        return x, y"
   ]
  },
  {
   "cell_type": "code",
   "execution_count": 101,
   "id": "6d35d5e4-6551-4668-9bfc-f7b859a2ec21",
   "metadata": {},
   "outputs": [],
   "source": [
    "dataset = CustomDataset()\n",
    "dataloader = DataLoader(dataset, batch_size=2, shuffle=True)"
   ]
  },
  {
   "cell_type": "code",
   "execution_count": 102,
   "id": "4d3f9362-daf9-4ca3-afdd-19140f4af11a",
   "metadata": {},
   "outputs": [],
   "source": [
    "model = torch.nn.Linear(3, 1)\n",
    "optimizer = torch.optim.SGD(model.parameters(), lr=1e-5)"
   ]
  },
  {
   "cell_type": "code",
   "execution_count": 103,
   "id": "05626437-382a-4919-bb2b-076488149bdc",
   "metadata": {},
   "outputs": [
    {
     "name": "stdout",
     "output_type": "stream",
     "text": [
      "Epoch    0/20 Batch 3/3 Cost: 5576.881348\n",
      "Epoch    0/20 Batch 3/3 Cost: 1094.447754\n",
      "Epoch    0/20 Batch 3/3 Cost: 265.588135\n",
      "Epoch    1/20 Batch 3/3 Cost: 135.388229\n",
      "Epoch    1/20 Batch 3/3 Cost: 74.801147\n",
      "Epoch    1/20 Batch 3/3 Cost: 29.130114\n",
      "Epoch    2/20 Batch 3/3 Cost: 5.268149\n",
      "Epoch    2/20 Batch 3/3 Cost: 4.836893\n",
      "Epoch    2/20 Batch 3/3 Cost: 0.347430\n",
      "Epoch    3/20 Batch 3/3 Cost: 6.045506\n",
      "Epoch    3/20 Batch 3/3 Cost: 2.811426\n",
      "Epoch    3/20 Batch 3/3 Cost: 0.133708\n",
      "Epoch    4/20 Batch 3/3 Cost: 4.438363\n",
      "Epoch    4/20 Batch 3/3 Cost: 1.438310\n",
      "Epoch    4/20 Batch 3/3 Cost: 0.872224\n",
      "Epoch    5/20 Batch 3/3 Cost: 3.842663\n",
      "Epoch    5/20 Batch 3/3 Cost: 1.330946\n",
      "Epoch    5/20 Batch 3/3 Cost: 3.675620\n",
      "Epoch    6/20 Batch 3/3 Cost: 1.001568\n",
      "Epoch    6/20 Batch 3/3 Cost: 3.032052\n",
      "Epoch    6/20 Batch 3/3 Cost: 4.115198\n",
      "Epoch    7/20 Batch 3/3 Cost: 2.267543\n",
      "Epoch    7/20 Batch 3/3 Cost: 3.700738\n",
      "Epoch    7/20 Batch 3/3 Cost: 0.541011\n",
      "Epoch    8/20 Batch 3/3 Cost: 4.737659\n",
      "Epoch    8/20 Batch 3/3 Cost: 3.123743\n",
      "Epoch    8/20 Batch 3/3 Cost: 0.475030\n",
      "Epoch    9/20 Batch 3/3 Cost: 4.040295\n",
      "Epoch    9/20 Batch 3/3 Cost: 2.017862\n",
      "Epoch    9/20 Batch 3/3 Cost: 0.379077\n",
      "Epoch   10/20 Batch 3/3 Cost: 5.060788\n",
      "Epoch   10/20 Batch 3/3 Cost: 3.301962\n",
      "Epoch   10/20 Batch 3/3 Cost: 0.169306\n",
      "Epoch   11/20 Batch 3/3 Cost: 0.107680\n",
      "Epoch   11/20 Batch 3/3 Cost: 2.345198\n",
      "Epoch   11/20 Batch 3/3 Cost: 7.203559\n",
      "Epoch   12/20 Batch 3/3 Cost: 4.211248\n",
      "Epoch   12/20 Batch 3/3 Cost: 1.417273\n",
      "Epoch   12/20 Batch 3/3 Cost: 2.151806\n",
      "Epoch   13/20 Batch 3/3 Cost: 3.057685\n",
      "Epoch   13/20 Batch 3/3 Cost: 3.508042\n",
      "Epoch   13/20 Batch 3/3 Cost: 1.542348\n",
      "Epoch   14/20 Batch 3/3 Cost: 3.879542\n",
      "Epoch   14/20 Batch 3/3 Cost: 1.432195\n",
      "Epoch   14/20 Batch 3/3 Cost: 5.621290\n",
      "Epoch   15/20 Batch 3/3 Cost: 4.760875\n",
      "Epoch   15/20 Batch 3/3 Cost: 4.371662\n",
      "Epoch   15/20 Batch 3/3 Cost: 1.598911\n",
      "Epoch   16/20 Batch 3/3 Cost: 3.126338\n",
      "Epoch   16/20 Batch 3/3 Cost: 2.181017\n",
      "Epoch   16/20 Batch 3/3 Cost: 2.924645\n",
      "Epoch   17/20 Batch 3/3 Cost: 2.978307\n",
      "Epoch   17/20 Batch 3/3 Cost: 5.113875\n",
      "Epoch   17/20 Batch 3/3 Cost: 1.334234\n",
      "Epoch   18/20 Batch 3/3 Cost: 3.951127\n",
      "Epoch   18/20 Batch 3/3 Cost: 1.260045\n",
      "Epoch   18/20 Batch 3/3 Cost: 0.686676\n",
      "Epoch   19/20 Batch 3/3 Cost: 4.026307\n",
      "Epoch   19/20 Batch 3/3 Cost: 1.173792\n",
      "Epoch   19/20 Batch 3/3 Cost: 1.107190\n",
      "Epoch   20/20 Batch 3/3 Cost: 1.512614\n",
      "Epoch   20/20 Batch 3/3 Cost: 3.250029\n",
      "Epoch   20/20 Batch 3/3 Cost: 3.013405\n"
     ]
    }
   ],
   "source": [
    "nb_epochs = 20\n",
    "for epoch in range(nb_epochs+1):\n",
    "    for idx, batch in enumerate(dataloader):\n",
    "        x, y = batch\n",
    "        pred = model(x)\n",
    "        cost = F.mse_loss(pred, y)\n",
    "\n",
    "        optimizer.zero_grad()\n",
    "        cost.backward()\n",
    "        optimizer.step()\n",
    "        \n",
    "        print('Epoch {:4d}/{} Batch {}/{} Cost: {:.6f}'.format(\n",
    "        epoch, nb_epochs, batch_idx+1, len(dataloader),\n",
    "        cost.item()\n",
    "        ))\n"
   ]
  },
  {
   "cell_type": "code",
   "execution_count": 104,
   "id": "ff6794f6-2a6b-4208-97b1-830e2bbedf7b",
   "metadata": {},
   "outputs": [
    {
     "name": "stdout",
     "output_type": "stream",
     "text": [
      "훈련 후 입력이 73, 80, 75일 때의 예측값 : tensor([[152.1021]], grad_fn=<AddmmBackward0>)\n"
     ]
    }
   ],
   "source": [
    "# 임의의 입력 [73, 80, 75]를 선언\n",
    "new_var =  torch.FloatTensor([[73, 80, 75]]) \n",
    "# 입력한 값 [73, 80, 75]에 대해서 예측값 y를 리턴받아서 pred_y에 저장\n",
    "pred_y = model(new_var) \n",
    "print(\"훈련 후 입력이 73, 80, 75일 때의 예측값 :\", pred_y) \n"
   ]
  },
  {
   "cell_type": "markdown",
   "id": "3b792848-7f25-4d2a-bb4b-e5674d64df21",
   "metadata": {},
   "source": [
    "# 8. 벡터와 행렬 연산 복습하기"
   ]
  },
  {
   "cell_type": "code",
   "execution_count": 105,
   "id": "bc900c09-d110-43f4-a8c8-09d19ba9a725",
   "metadata": {},
   "outputs": [],
   "source": [
    "import numpy as np"
   ]
  },
  {
   "cell_type": "markdown",
   "id": "e2a107a2-3460-402e-8e6f-2ca8ce5a1977",
   "metadata": {},
   "source": [
    "## 2. Tensor"
   ]
  },
  {
   "cell_type": "code",
   "execution_count": 106,
   "id": "06ad3463-88bc-453a-872b-e5ab304109a1",
   "metadata": {},
   "outputs": [
    {
     "name": "stdout",
     "output_type": "stream",
     "text": [
      "텐서의 차원 : 0\n",
      "텐서의 크기(shape) : ()\n"
     ]
    }
   ],
   "source": [
    "d = np.array(5)\n",
    "print('텐서의 차원 :',d.ndim)\n",
    "print('텐서의 크기(shape) :',d.shape)"
   ]
  },
  {
   "cell_type": "code",
   "execution_count": 107,
   "id": "b984d9a7-3648-4649-b7a0-f4002555e3a2",
   "metadata": {},
   "outputs": [
    {
     "name": "stdout",
     "output_type": "stream",
     "text": [
      "텐서의 차원 : 1\n",
      "텐서의 크기(shape) : (4,)\n"
     ]
    }
   ],
   "source": [
    "d = np.array([1, 2, 3, 4])\n",
    "print('텐서의 차원 :',d.ndim)\n",
    "print('텐서의 크기(shape) :',d.shape)"
   ]
  },
  {
   "cell_type": "code",
   "execution_count": 108,
   "id": "fe1463ce-bdb3-46a5-ada0-30c3f6f2b9bd",
   "metadata": {},
   "outputs": [
    {
     "name": "stdout",
     "output_type": "stream",
     "text": [
      "텐서의 차원 : 2\n",
      "텐서의 크기(shape) : (3, 4)\n"
     ]
    }
   ],
   "source": [
    "d = np.array([[1, 2, 3, 4], [5, 6, 7, 8], [9, 10, 11, 12]])\n",
    "print('텐서의 차원 :',d.ndim)\n",
    "print('텐서의 크기(shape) :',d.shape)"
   ]
  },
  {
   "cell_type": "code",
   "execution_count": 109,
   "id": "bf13bb43-300d-448d-83fd-aa71dcf69c45",
   "metadata": {},
   "outputs": [
    {
     "name": "stdout",
     "output_type": "stream",
     "text": [
      "텐서의 차원 : 3\n",
      "텐서의 크기(shape) : (2, 3, 5)\n"
     ]
    }
   ],
   "source": [
    "d = np.array([\n",
    "    [[1, 2, 3, 4, 5], \n",
    "     [6, 7, 8, 9, 10], \n",
    "     [11, 12, 13, 14, 15]],\n",
    "    [[16, 17, 18, 19, 20], \n",
    "     [21, 22, 23, 24, 25], \n",
    "     [26, 27, 28, 29, 30]]\n",
    "])\n",
    "print('텐서의 차원 :',d.ndim)\n",
    "print('텐서의 크기(shape) :',d.shape)"
   ]
  },
  {
   "cell_type": "markdown",
   "id": "f0b6800d-e95f-4396-8fc6-08e63a5bae8f",
   "metadata": {},
   "source": [
    "## 3. 벡터와 행렬의 연산"
   ]
  },
  {
   "cell_type": "code",
   "execution_count": 113,
   "id": "2aa6b4f1-4c38-4b99-938d-189ef351798b",
   "metadata": {},
   "outputs": [
    {
     "name": "stdout",
     "output_type": "stream",
     "text": [
      "a+b:\n",
      "[9 6 8]\n",
      "a-b:\n",
      "[7 2 2]\n"
     ]
    }
   ],
   "source": [
    "a = np.array([8, 4, 5])\n",
    "b = np.array([1, 2, 3])\n",
    "print(f'a+b:\\n{a+b}')\n",
    "print(f'a-b:\\n{a-b}')"
   ]
  },
  {
   "cell_type": "code",
   "execution_count": 112,
   "id": "ee882a87-17c2-4075-8d55-db6c5f235fd2",
   "metadata": {},
   "outputs": [
    {
     "name": "stdout",
     "output_type": "stream",
     "text": [
      "a+b:\n",
      "[[15 26 37 48]\n",
      " [51 62 73 84]]\n",
      "a-b:\n",
      "[[ 5 14 23 32]\n",
      " [49 58 67 76]]\n"
     ]
    }
   ],
   "source": [
    "a = np.array([[10, 20, 30, 40],[50, 60, 70, 80]])\n",
    "b = np.array([[5, 6, 7, 8], [1, 2, 3, 4]])\n",
    "print(f'a+b:\\n{a+b}')\n",
    "print(f'a-b:\\n{a-b}')"
   ]
  },
  {
   "cell_type": "code",
   "execution_count": 120,
   "id": "2c8bc997-3353-41aa-8362-61a4daa60890",
   "metadata": {},
   "outputs": [
    {
     "name": "stdout",
     "output_type": "stream",
     "text": [
      "a.dot(b):\n",
      "32\n"
     ]
    }
   ],
   "source": [
    "a = np.array([1, 2, 3])\n",
    "b = np.array([4, 5, 6]) \n",
    "# a, b 모두 행 벡터이나 자동으로 b를 열벡터로 바꿔서 벡터의 내적 연산을 한다.\n",
    "print(f'a.dot(b):\\n{a.dot(b)}')"
   ]
  },
  {
   "cell_type": "code",
   "execution_count": 116,
   "id": "8b5fbd3d-9a29-49d3-bd8b-b50106d760dd",
   "metadata": {},
   "outputs": [
    {
     "name": "stdout",
     "output_type": "stream",
     "text": [
      "두 행렬의 행렬곱 :\n",
      "[[23 31]\n",
      " [34 46]]\n"
     ]
    }
   ],
   "source": [
    "a = np.array([[1, 3], [2, 4]])\n",
    "b = np.array([[5, 7], [6, 8]])\n",
    "print('두 행렬의 행렬곱 :')\n",
    "print(np.matmul(a, b))"
   ]
  },
  {
   "cell_type": "code",
   "execution_count": 119,
   "id": "a27f1f7c-92eb-49b5-8ce6-3303d2971e2d",
   "metadata": {},
   "outputs": [
    {
     "name": "stdout",
     "output_type": "stream",
     "text": [
      "두 행렬의 원소곱 :\n",
      "a*b:\n",
      "[[ 5 21]\n",
      " [12 32]]\n"
     ]
    }
   ],
   "source": [
    "print('두 행렬의 원소곱 :')\n",
    "print(f'a*b:\\n{a*b}') # 같은 위치의 원소끼리 곱한다"
   ]
  },
  {
   "cell_type": "code",
   "execution_count": null,
   "id": "b7861b1a-2020-48ab-80e2-4fa268684c88",
   "metadata": {},
   "outputs": [],
   "source": []
  }
 ],
 "metadata": {
  "kernelspec": {
   "display_name": "Python 3 (ipykernel)",
   "language": "python",
   "name": "python3"
  },
  "language_info": {
   "codemirror_mode": {
    "name": "ipython",
    "version": 3
   },
   "file_extension": ".py",
   "mimetype": "text/x-python",
   "name": "python",
   "nbconvert_exporter": "python",
   "pygments_lexer": "ipython3",
   "version": "3.11.7"
  }
 },
 "nbformat": 4,
 "nbformat_minor": 5
}
